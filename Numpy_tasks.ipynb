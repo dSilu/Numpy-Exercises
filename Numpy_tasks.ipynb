{
  "cells": [
    {
      "cell_type": "markdown",
      "metadata": {
        "id": "AehaVGdH_5sS"
      },
      "source": [
        "# Numpy\n",
        "\n"
      ]
    },
    {
      "cell_type": "markdown",
      "metadata": {
        "id": "hrJIwcYw_5sZ"
      },
      "source": [
        "#### 1. Import the numpy package under the name `np` (★☆☆) \n",
        "(**hint**: import … as …)"
      ]
    },
    {
      "cell_type": "code",
      "execution_count": 2,
      "metadata": {
        "collapsed": true,
        "id": "j-vH1cYn_5sg"
      },
      "outputs": [],
      "source": [
        "import numpy as np"
      ]
    },
    {
      "cell_type": "markdown",
      "metadata": {
        "id": "DTZCn4I7_5sj"
      },
      "source": [
        "#### 2. Print the numpy version and the configuration (★☆☆) \n",
        "(**hint**: np.\\_\\_version\\_\\_, np.show\\_config)"
      ]
    },
    {
      "cell_type": "code",
      "execution_count": 2,
      "metadata": {
        "id": "Q1jiTJbV_5sl"
      },
      "outputs": [
        {
          "data": {
            "text/plain": [
              "'1.22.1'"
            ]
          },
          "execution_count": 2,
          "metadata": {},
          "output_type": "execute_result"
        }
      ],
      "source": [
        "np.__version__"
      ]
    },
    {
      "cell_type": "markdown",
      "metadata": {
        "id": "92axF94__5sm"
      },
      "source": [
        "#### 3. Create a null vector of size 10 (★☆☆) \n",
        "(**hint**: np.zeros)"
      ]
    },
    {
      "cell_type": "code",
      "execution_count": 4,
      "metadata": {
        "id": "pP1uQ8F3_5sn"
      },
      "outputs": [
        {
          "data": {
            "text/plain": [
              "array([0., 0., 0., 0., 0., 0., 0., 0., 0., 0.])"
            ]
          },
          "execution_count": 4,
          "metadata": {},
          "output_type": "execute_result"
        }
      ],
      "source": [
        "arr = np.zeros(10)\n",
        "\n",
        "arr"
      ]
    },
    {
      "cell_type": "markdown",
      "metadata": {
        "id": "HjKAs4Mf_5so"
      },
      "source": [
        "#### 4.  How to find the memory size of any array (★☆☆) \n",
        "(**hint**: size, itemsize)"
      ]
    },
    {
      "cell_type": "code",
      "execution_count": 5,
      "metadata": {
        "id": "4S7_PJN2_5sp"
      },
      "outputs": [
        {
          "data": {
            "text/plain": [
              "10"
            ]
          },
          "execution_count": 5,
          "metadata": {},
          "output_type": "execute_result"
        }
      ],
      "source": [
        "np.size(arr)"
      ]
    },
    {
      "cell_type": "code",
      "execution_count": 8,
      "metadata": {},
      "outputs": [
        {
          "data": {
            "text/plain": [
              "8"
            ]
          },
          "execution_count": 8,
          "metadata": {},
          "output_type": "execute_result"
        }
      ],
      "source": [
        "arr.itemsize"
      ]
    },
    {
      "cell_type": "markdown",
      "metadata": {
        "id": "3CEtbAnG_5ss"
      },
      "source": [
        "#### 5.  How to get the documentation of the numpy add function from the command line? (★☆☆) \n",
        "(**hint**: np.info)"
      ]
    },
    {
      "cell_type": "code",
      "execution_count": 10,
      "metadata": {
        "collapsed": true,
        "id": "2T5vWOIh_5st"
      },
      "outputs": [
        {
          "name": "stdout",
          "output_type": "stream",
          "text": [
            "add(x1, x2, /, out=None, *, where=True, casting='same_kind', order='K', dtype=None, subok=True[, signature, extobj])\n",
            "\n",
            "Add arguments element-wise.\n",
            "\n",
            "Parameters\n",
            "----------\n",
            "x1, x2 : array_like\n",
            "    The arrays to be added.\n",
            "    If ``x1.shape != x2.shape``, they must be broadcastable to a common\n",
            "    shape (which becomes the shape of the output).\n",
            "out : ndarray, None, or tuple of ndarray and None, optional\n",
            "    A location into which the result is stored. If provided, it must have\n",
            "    a shape that the inputs broadcast to. If not provided or None,\n",
            "    a freshly-allocated array is returned. A tuple (possible only as a\n",
            "    keyword argument) must have length equal to the number of outputs.\n",
            "where : array_like, optional\n",
            "    This condition is broadcast over the input. At locations where the\n",
            "    condition is True, the `out` array will be set to the ufunc result.\n",
            "    Elsewhere, the `out` array will retain its original value.\n",
            "    Note that if an uninitialized `out` array is created via the default\n",
            "    ``out=None``, locations within it where the condition is False will\n",
            "    remain uninitialized.\n",
            "**kwargs\n",
            "    For other keyword-only arguments, see the\n",
            "    :ref:`ufunc docs <ufuncs.kwargs>`.\n",
            "\n",
            "Returns\n",
            "-------\n",
            "add : ndarray or scalar\n",
            "    The sum of `x1` and `x2`, element-wise.\n",
            "    This is a scalar if both `x1` and `x2` are scalars.\n",
            "\n",
            "Notes\n",
            "-----\n",
            "Equivalent to `x1` + `x2` in terms of array broadcasting.\n",
            "\n",
            "Examples\n",
            "--------\n",
            ">>> np.add(1.0, 4.0)\n",
            "5.0\n",
            ">>> x1 = np.arange(9.0).reshape((3, 3))\n",
            ">>> x2 = np.arange(3.0)\n",
            ">>> np.add(x1, x2)\n",
            "array([[  0.,   2.,   4.],\n",
            "       [  3.,   5.,   7.],\n",
            "       [  6.,   8.,  10.]])\n",
            "\n",
            "The ``+`` operator can be used as a shorthand for ``np.add`` on ndarrays.\n",
            "\n",
            ">>> x1 = np.arange(9.0).reshape((3, 3))\n",
            ">>> x2 = np.arange(3.0)\n",
            ">>> x1 + x2\n",
            "array([[ 0.,  2.,  4.],\n",
            "       [ 3.,  5.,  7.],\n",
            "       [ 6.,  8., 10.]])\n"
          ]
        }
      ],
      "source": [
        "np.info(np.add)"
      ]
    },
    {
      "cell_type": "markdown",
      "metadata": {
        "id": "mOgfGYZL_5st"
      },
      "source": [
        "#### 6.  Create a null vector of size 10 but the fifth value which is 1 (★☆☆) \n",
        "(**hint**: array\\[4\\])"
      ]
    },
    {
      "cell_type": "code",
      "execution_count": 11,
      "metadata": {
        "id": "fC8a8swC_5su"
      },
      "outputs": [
        {
          "data": {
            "text/plain": [
              "array([0., 0., 0., 0., 1., 0., 0., 0., 0., 0.])"
            ]
          },
          "execution_count": 11,
          "metadata": {},
          "output_type": "execute_result"
        }
      ],
      "source": [
        "# Creating null vector\n",
        "arr = np.zeros(10)\n",
        "# assign 1 to fifth element\n",
        "arr[4] = 1\n",
        "arr"
      ]
    },
    {
      "cell_type": "markdown",
      "metadata": {
        "id": "n4-e-lQv_5su"
      },
      "source": [
        "#### 7.  Create a vector with values ranging from 10 to 49 (★☆☆) \n",
        "(**hint**: np.arange)"
      ]
    },
    {
      "cell_type": "code",
      "execution_count": 12,
      "metadata": {
        "id": "Yp24OH4o_5sv"
      },
      "outputs": [
        {
          "data": {
            "text/plain": [
              "array([10, 11, 12, 13, 14, 15, 16, 17, 18, 19, 20, 21, 22, 23, 24, 25, 26,\n",
              "       27, 28, 29, 30, 31, 32, 33, 34, 35, 36, 37, 38, 39, 40, 41, 42, 43,\n",
              "       44, 45, 46, 47, 48, 49])"
            ]
          },
          "execution_count": 12,
          "metadata": {},
          "output_type": "execute_result"
        }
      ],
      "source": [
        "np.arange(10,50)"
      ]
    },
    {
      "cell_type": "markdown",
      "metadata": {
        "id": "xuY_7mIY_5sv"
      },
      "source": [
        "#### 8.  Reverse a vector (first element becomes last) (★☆☆) \n",
        "(**hint**: array\\[::-1\\])"
      ]
    },
    {
      "cell_type": "code",
      "execution_count": 13,
      "metadata": {
        "id": "hJ1xSSnO_5sw"
      },
      "outputs": [
        {
          "name": "stdout",
          "output_type": "stream",
          "text": [
            "[0. 0. 0. 0. 1. 0. 0. 0. 0. 0.]\n",
            "[0. 0. 0. 0. 0. 1. 0. 0. 0. 0.]\n"
          ]
        }
      ],
      "source": [
        "print(arr)\n",
        "print(arr[::-1])"
      ]
    },
    {
      "cell_type": "markdown",
      "metadata": {
        "id": "w4_SD0cj_5sw"
      },
      "source": [
        "#### 9.  Create a 3x3 matrix with values ranging from 0 to 8 (★☆☆) \n",
        "(**hint**: reshape)"
      ]
    },
    {
      "cell_type": "code",
      "execution_count": 14,
      "metadata": {
        "id": "_On9mqPF_5sx"
      },
      "outputs": [
        {
          "data": {
            "text/plain": [
              "array([[0, 1, 2],\n",
              "       [3, 4, 5],\n",
              "       [6, 7, 8]])"
            ]
          },
          "execution_count": 14,
          "metadata": {},
          "output_type": "execute_result"
        }
      ],
      "source": [
        "np.arange(9).reshape(3,3)"
      ]
    },
    {
      "cell_type": "markdown",
      "metadata": {
        "id": "oZJCVKV9_5sx"
      },
      "source": [
        "#### 10. Find indices of non-zero elements from \\[1,2,0,0,4,0\\] (★☆☆) \n",
        "(**hint**: np.nonzero)"
      ]
    },
    {
      "cell_type": "code",
      "execution_count": 15,
      "metadata": {
        "id": "7_6WL0ZB_5sy"
      },
      "outputs": [
        {
          "data": {
            "text/plain": [
              "(array([0, 1, 4]),)"
            ]
          },
          "execution_count": 15,
          "metadata": {},
          "output_type": "execute_result"
        }
      ],
      "source": [
        "lst = [1,2,0,0,4,0]\n",
        "\n",
        "np.nonzero(lst)"
      ]
    },
    {
      "cell_type": "markdown",
      "metadata": {
        "id": "Y2hQjrg2_5sz"
      },
      "source": [
        "#### 11. Create a 3x3 identity matrix (★☆☆) \n",
        "(**hint**: np.eye)"
      ]
    },
    {
      "cell_type": "code",
      "execution_count": 16,
      "metadata": {
        "id": "9PY9QcPv_5sz"
      },
      "outputs": [
        {
          "data": {
            "text/plain": [
              "array([[1., 0., 0.],\n",
              "       [0., 1., 0.],\n",
              "       [0., 0., 1.]])"
            ]
          },
          "execution_count": 16,
          "metadata": {},
          "output_type": "execute_result"
        }
      ],
      "source": [
        "np.eye(3)"
      ]
    },
    {
      "cell_type": "markdown",
      "metadata": {
        "id": "DxC9CXk1_5s0"
      },
      "source": [
        "#### 12. Create a 3x3x3 array with random values (★☆☆) \n",
        "(**hint**: np.random.random)"
      ]
    },
    {
      "cell_type": "code",
      "execution_count": 19,
      "metadata": {
        "collapsed": true,
        "id": "RuHkt2T2_5s1"
      },
      "outputs": [
        {
          "data": {
            "text/plain": [
              "array([1.18406912, 1.53951471, 1.72275106])"
            ]
          },
          "execution_count": 19,
          "metadata": {},
          "output_type": "execute_result"
        }
      ],
      "source": [
        "np.random.uniform((3,3,3))"
      ]
    },
    {
      "cell_type": "markdown",
      "metadata": {
        "id": "nZBlUPlf_5s1"
      },
      "source": [
        "#### 13. Create a 10x10 array with random values and find the minimum and maximum values (★☆☆) \n",
        "(**hint**: min, max)"
      ]
    },
    {
      "cell_type": "code",
      "execution_count": 21,
      "metadata": {
        "id": "rau-Q6qQ_5s1"
      },
      "outputs": [
        {
          "name": "stdout",
          "output_type": "stream",
          "text": [
            "Maximum Value:  0.9836391385487979\n",
            "Minimum Value:  0.03075542362379957\n"
          ]
        }
      ],
      "source": [
        "arr = np.random.random((10,10))\n",
        "\n",
        "arrmin, arrmax = arr.min(), arr.max()\n",
        "\n",
        "print(\"Maximum Value: \", arrmax)\n",
        "print('Minimum Value: ', arrmin)"
      ]
    },
    {
      "cell_type": "markdown",
      "metadata": {
        "id": "4qGR0hue_5s2"
      },
      "source": [
        "#### 14. Create a random vector of size 30 and find the mean value (★☆☆) \n",
        "(**hint**: mean)"
      ]
    },
    {
      "cell_type": "code",
      "execution_count": 24,
      "metadata": {
        "id": "y6aafiwh_5s2"
      },
      "outputs": [
        {
          "data": {
            "text/plain": [
              "0.47048165639034"
            ]
          },
          "execution_count": 24,
          "metadata": {},
          "output_type": "execute_result"
        }
      ],
      "source": [
        "arr = np.random.random(30)\n",
        "arr.mean()"
      ]
    },
    {
      "cell_type": "markdown",
      "metadata": {
        "id": "fwBJVuMB_5s2"
      },
      "source": [
        "#### 15. Create a 2d array with 1 on the border and 0 inside (★☆☆) \n",
        "(**hint**: array\\[1:-1, 1:-1\\])"
      ]
    },
    {
      "cell_type": "code",
      "execution_count": 28,
      "metadata": {
        "id": "h0NqnHw1_5s3"
      },
      "outputs": [
        {
          "data": {
            "text/plain": [
              "array([[1., 1., 1., 1., 1., 1., 1., 1., 1., 1.],\n",
              "       [1., 0., 0., 0., 0., 0., 0., 0., 0., 1.],\n",
              "       [1., 0., 0., 0., 0., 0., 0., 0., 0., 1.],\n",
              "       [1., 0., 0., 0., 0., 0., 0., 0., 0., 1.],\n",
              "       [1., 0., 0., 0., 0., 0., 0., 0., 0., 1.],\n",
              "       [1., 0., 0., 0., 0., 0., 0., 0., 0., 1.],\n",
              "       [1., 0., 0., 0., 0., 0., 0., 0., 0., 1.],\n",
              "       [1., 0., 0., 0., 0., 0., 0., 0., 0., 1.],\n",
              "       [1., 0., 0., 0., 0., 0., 0., 0., 0., 1.],\n",
              "       [1., 1., 1., 1., 1., 1., 1., 1., 1., 1.]])"
            ]
          },
          "execution_count": 28,
          "metadata": {},
          "output_type": "execute_result"
        }
      ],
      "source": [
        "arr = np.ones((10,10))\n",
        "\n",
        "arr[1:-1, 1:-1] = 0\n",
        "\n",
        "arr"
      ]
    },
    {
      "cell_type": "markdown",
      "metadata": {
        "id": "JcPeaiCL_5s3"
      },
      "source": [
        "#### 16. How to add a border (filled with 0's) around an existing array? (★☆☆) \n",
        "(**hint**: np.pad)"
      ]
    },
    {
      "cell_type": "code",
      "execution_count": 42,
      "metadata": {
        "id": "xhkVlWSs_5s4"
      },
      "outputs": [
        {
          "data": {
            "text/plain": [
              "array([[0., 0., 0., 0., 0., 0., 0.],\n",
              "       [0., 1., 1., 1., 1., 1., 0.],\n",
              "       [0., 1., 1., 1., 1., 1., 0.],\n",
              "       [0., 1., 1., 1., 1., 1., 0.],\n",
              "       [0., 1., 1., 1., 1., 1., 0.],\n",
              "       [0., 1., 1., 1., 1., 1., 0.],\n",
              "       [0., 0., 0., 0., 0., 0., 0.]])"
            ]
          },
          "execution_count": 42,
          "metadata": {},
          "output_type": "execute_result"
        }
      ],
      "source": [
        "arr = np.ones((5,5))\n",
        "arr = np.pad(arr, pad_width=1, mode='constant', constant_values=0)\n",
        "\n",
        "arr"
      ]
    },
    {
      "cell_type": "markdown",
      "metadata": {
        "id": "oTVHCipw_5s4"
      },
      "source": [
        "#### 17. What is the result of the following expression? (★☆☆) \n",
        "(**hint**: NaN = not a number, inf = infinity)"
      ]
    },
    {
      "cell_type": "markdown",
      "metadata": {
        "id": "YsZ3aHP8_5s5"
      },
      "source": [
        "```python\n",
        "0 * np.nan\n",
        "np.nan == np.nan\n",
        "np.inf > np.nan\n",
        "np.nan - np.nan\n",
        "0.3 == 3 * 0.1\n",
        "```"
      ]
    },
    {
      "cell_type": "code",
      "execution_count": 43,
      "metadata": {
        "id": "EkaZDUel_5s6"
      },
      "outputs": [
        {
          "name": "stdout",
          "output_type": "stream",
          "text": [
            "nan\n",
            "False\n",
            "False\n",
            "nan\n",
            "False\n"
          ]
        }
      ],
      "source": [
        "print(0*np.nan)\n",
        "print(np.nan == np.nan)\n",
        "print(np.inf > np.nan)\n",
        "print(np.nan - np.nan)\n",
        "print(0.3 == 3 * 0.1)"
      ]
    },
    {
      "cell_type": "markdown",
      "metadata": {
        "id": "dFeH8sTt_5s7"
      },
      "source": [
        "#### 18. Create a 5x5 matrix with values 1,2,3,4 just below the diagonal (★☆☆) \n",
        "(**hint**: np.diag)"
      ]
    },
    {
      "cell_type": "code",
      "execution_count": 45,
      "metadata": {
        "id": "2bVU0l_m_5s8"
      },
      "outputs": [
        {
          "data": {
            "text/plain": [
              "array([[0, 0, 0, 0, 0],\n",
              "       [1, 0, 0, 0, 0],\n",
              "       [0, 2, 0, 0, 0],\n",
              "       [0, 0, 3, 0, 0],\n",
              "       [0, 0, 0, 4, 0]])"
            ]
          },
          "execution_count": 45,
          "metadata": {},
          "output_type": "execute_result"
        }
      ],
      "source": [
        "np.diag(1+np.arange(4), k=-1)"
      ]
    },
    {
      "cell_type": "markdown",
      "metadata": {
        "id": "1-ApWy3Q_5s8"
      },
      "source": [
        "#### 19. Create a 8x8 matrix and fill it with a checkerboard pattern (★☆☆) \n",
        "(**hint**: array\\[::2\\])"
      ]
    },
    {
      "cell_type": "code",
      "execution_count": 8,
      "metadata": {
        "id": "MakWgKhy_5s9"
      },
      "outputs": [
        {
          "data": {
            "text/plain": [
              "array([[0, 1, 0, 1, 0, 1, 0, 1],\n",
              "       [1, 0, 1, 0, 1, 0, 1, 0],\n",
              "       [0, 1, 0, 1, 0, 1, 0, 1],\n",
              "       [1, 0, 1, 0, 1, 0, 1, 0],\n",
              "       [0, 1, 0, 1, 0, 1, 0, 1],\n",
              "       [1, 0, 1, 0, 1, 0, 1, 0],\n",
              "       [0, 1, 0, 1, 0, 1, 0, 1],\n",
              "       [1, 0, 1, 0, 1, 0, 1, 0]])"
            ]
          },
          "execution_count": 8,
          "metadata": {},
          "output_type": "execute_result"
        }
      ],
      "source": [
        "arr = np.zeros((8,8), dtype=int)\n",
        "arr[1::2, ::2] = 1\n",
        "arr[::2, 1::2] = 1\n",
        "\n",
        "arr"
      ]
    },
    {
      "cell_type": "markdown",
      "metadata": {
        "id": "B901JQ2t_5s-"
      },
      "source": [
        "#### 20. Consider a (6,7,8) shape array, what is the index (x,y,z) of the 100th element? \n",
        "(**hint**: np.unravel_index)"
      ]
    },
    {
      "cell_type": "code",
      "execution_count": 9,
      "metadata": {
        "id": "DFRiguim_5s_"
      },
      "outputs": [
        {
          "data": {
            "text/plain": [
              "(1, 5, 4)"
            ]
          },
          "execution_count": 9,
          "metadata": {},
          "output_type": "execute_result"
        }
      ],
      "source": [
        "np.unravel_index(100, (6,7,8))"
      ]
    },
    {
      "cell_type": "markdown",
      "metadata": {
        "id": "GhBjArQq_5tA"
      },
      "source": [
        "#### 21. Create a checkerboard 8x8 matrix using the tile function (★☆☆) \n",
        "(**hint**: np.tile)"
      ]
    },
    {
      "cell_type": "code",
      "execution_count": 11,
      "metadata": {
        "id": "nZS01RfV_5tB"
      },
      "outputs": [
        {
          "data": {
            "text/plain": [
              "array([[0, 1, 0, 1, 0, 1, 0, 1],\n",
              "       [1, 0, 1, 0, 1, 0, 1, 0],\n",
              "       [0, 1, 0, 1, 0, 1, 0, 1],\n",
              "       [1, 0, 1, 0, 1, 0, 1, 0],\n",
              "       [0, 1, 0, 1, 0, 1, 0, 1],\n",
              "       [1, 0, 1, 0, 1, 0, 1, 0],\n",
              "       [0, 1, 0, 1, 0, 1, 0, 1],\n",
              "       [1, 0, 1, 0, 1, 0, 1, 0]])"
            ]
          },
          "execution_count": 11,
          "metadata": {},
          "output_type": "execute_result"
        }
      ],
      "source": [
        "arr = np.array([[0,1], [1,0]])\n",
        "arr = np.tile(arr, (4,4))\n",
        "arr"
      ]
    },
    {
      "cell_type": "markdown",
      "metadata": {
        "id": "MUv8P0lr_5tC"
      },
      "source": [
        "#### 22. Normalize a 5x5 random matrix (★☆☆) \n",
        "(**hint**: (x - min) / (max - min))"
      ]
    },
    {
      "cell_type": "code",
      "execution_count": 12,
      "metadata": {
        "id": "TLlY2P8s_5tD"
      },
      "outputs": [
        {
          "data": {
            "text/plain": [
              "array([[0.68259296, 0.30388901, 0.0279266 , 0.53149772, 0.36405453],\n",
              "       [0.        , 0.95193338, 0.43620355, 0.40301959, 0.83677743],\n",
              "       [0.26846706, 0.65454399, 0.68268218, 0.57077294, 0.89136434],\n",
              "       [0.50182053, 0.94127402, 0.63915487, 0.98658081, 0.48127546],\n",
              "       [1.        , 0.60275352, 0.83802891, 0.12302533, 0.27262986]])"
            ]
          },
          "execution_count": 12,
          "metadata": {},
          "output_type": "execute_result"
        }
      ],
      "source": [
        "arr = np.random.random((5,5))\n",
        "\n",
        "arr = (arr - arr.min()) / (arr.max() - arr.min())\n",
        "\n",
        "arr"
      ]
    },
    {
      "cell_type": "markdown",
      "metadata": {
        "id": "ufp0vQU-_5tD"
      },
      "source": [
        "#### 23. Create a custom dtype that describes a color as four unsigned bytes (RGBA) (★☆☆) \n",
        "(**hint**: np.dtype)"
      ]
    },
    {
      "cell_type": "code",
      "execution_count": 13,
      "metadata": {
        "collapsed": true,
        "id": "x1Mo53_r_5tE"
      },
      "outputs": [
        {
          "name": "stderr",
          "output_type": "stream",
          "text": [
            "/tmp/ipykernel_8614/2055069237.py:1: FutureWarning: Passing (type, 1) or '1type' as a synonym of type is deprecated; in a future version of numpy, it will be understood as (type, (1,)) / '(1,)type'.\n",
            "  np.dtype([\n"
          ]
        },
        {
          "data": {
            "text/plain": [
              "dtype([('r', 'u1'), ('g', 'u1'), ('b', 'u1'), ('a', 'u1')])"
            ]
          },
          "execution_count": 13,
          "metadata": {},
          "output_type": "execute_result"
        }
      ],
      "source": [
        "np.dtype([\n",
        "    ('r', np.ubyte, 1),\n",
        "    ('g', np.ubyte, 1),\n",
        "    ('b', np.ubyte, 1),\n",
        "    ('a', np.ubyte, 1)\n",
        "])"
      ]
    },
    {
      "cell_type": "markdown",
      "metadata": {
        "id": "dOPB1nNo_5tF"
      },
      "source": [
        "#### 24. Multiply a 5x3 matrix by a 3x2 matrix (real matrix product) (★☆☆) \n",
        "(**hint**: np.dot | @)"
      ]
    },
    {
      "cell_type": "code",
      "execution_count": 14,
      "metadata": {
        "id": "Q7ga2NUo_5tH"
      },
      "outputs": [
        {
          "data": {
            "text/plain": [
              "array([[3., 3.],\n",
              "       [3., 3.],\n",
              "       [3., 3.],\n",
              "       [3., 3.],\n",
              "       [3., 3.]])"
            ]
          },
          "execution_count": 14,
          "metadata": {},
          "output_type": "execute_result"
        }
      ],
      "source": [
        "np.dot(np.ones((5,3)), np.ones((3,2)))"
      ]
    },
    {
      "cell_type": "code",
      "execution_count": 15,
      "metadata": {},
      "outputs": [
        {
          "data": {
            "text/plain": [
              "array([[3., 3.],\n",
              "       [3., 3.],\n",
              "       [3., 3.],\n",
              "       [3., 3.],\n",
              "       [3., 3.]])"
            ]
          },
          "execution_count": 15,
          "metadata": {},
          "output_type": "execute_result"
        }
      ],
      "source": [
        "# or\n",
        "np.ones((5,3)) @ np.ones((3,2))"
      ]
    },
    {
      "cell_type": "markdown",
      "metadata": {
        "id": "oWHItkMn_5tI"
      },
      "source": [
        "#### 25. Given a 1D array, negate all elements which are between 3 and 8, in place. (★☆☆) \n",
        "(**hint**: >, <=)"
      ]
    },
    {
      "cell_type": "code",
      "execution_count": 16,
      "metadata": {
        "id": "CswHH10z_5tJ"
      },
      "outputs": [
        {
          "data": {
            "text/plain": [
              "array([ 0,  1,  2,  3, -4, -5, -6, -7, -8,  9, 10])"
            ]
          },
          "execution_count": 16,
          "metadata": {},
          "output_type": "execute_result"
        }
      ],
      "source": [
        "arr = np.arange(11)\n",
        "\n",
        "arr[(3<arr) & (arr <=8)] *= -1\n",
        "\n",
        "arr"
      ]
    },
    {
      "cell_type": "markdown",
      "metadata": {
        "id": "D_r8jaVt_5tJ"
      },
      "source": [
        "#### 26. What is the output of the following script? (★☆☆) \n",
        "(**hint**: np.sum)"
      ]
    },
    {
      "cell_type": "markdown",
      "metadata": {
        "id": "cCJN3egE_5tK"
      },
      "source": [
        "```python\n",
        "# Author: Jake VanderPlas\n",
        "\n",
        "print(sum(range(5),-1))\n",
        "from numpy import *\n",
        "print(sum(range(5),-1))\n",
        "```"
      ]
    },
    {
      "cell_type": "code",
      "execution_count": 17,
      "metadata": {
        "id": "G-ytfDtm_5tL"
      },
      "outputs": [
        {
          "name": "stdout",
          "output_type": "stream",
          "text": [
            "9\n",
            "10\n"
          ]
        }
      ],
      "source": [
        "print(sum(range(5), -1))\n",
        "from numpy import *\n",
        "print(sum(range(5), -1))"
      ]
    },
    {
      "cell_type": "markdown",
      "metadata": {
        "id": "HdS1-lj0_5tM"
      },
      "source": [
        "#### 27. Consider an integer vector Z, which of these expressions are legal? (★☆☆)"
      ]
    },
    {
      "cell_type": "markdown",
      "metadata": {
        "id": "63Y_bzot_5tM"
      },
      "source": [
        "```python\n",
        "Z**Z\n",
        "2 << Z >> 2\n",
        "Z <- Z\n",
        "1j*Z\n",
        "Z/1/1\n",
        "Z<Z>Z\n",
        "```"
      ]
    },
    {
      "cell_type": "code",
      "execution_count": 23,
      "metadata": {
        "id": "2RHesyBE_5tN"
      },
      "outputs": [
        {
          "name": "stdout",
          "output_type": "stream",
          "text": [
            "[1 1 1]\n",
            "[1 1 1]\n",
            "[False False False]\n",
            "[0.+1.j 0.+1.j 0.+1.j]\n",
            "[1. 1. 1.]\n"
          ]
        },
        {
          "ename": "ValueError",
          "evalue": "The truth value of an array with more than one element is ambiguous. Use a.any() or a.all()",
          "output_type": "error",
          "traceback": [
            "\u001b[0;31m---------------------------------------------------------------------------\u001b[0m",
            "\u001b[0;31mValueError\u001b[0m                                Traceback (most recent call last)",
            "\u001b[1;32m/media/ashrulochan/EAD0BE77D0BE4999/Disk H/VSC WorkSpace/Guvi/Tasks/Numpy_tasks.ipynb Cell 60'\u001b[0m in \u001b[0;36m<module>\u001b[0;34m\u001b[0m\n\u001b[1;32m      <a href='vscode-notebook-cell:/media/ashrulochan/EAD0BE77D0BE4999/Disk%20H/VSC%20WorkSpace/Guvi/Tasks/Numpy_tasks.ipynb#ch0000058?line=4'>5</a>\u001b[0m \u001b[39mprint\u001b[39m(\u001b[39m1\u001b[39mj\u001b[39m*\u001b[39mZ)\n\u001b[1;32m      <a href='vscode-notebook-cell:/media/ashrulochan/EAD0BE77D0BE4999/Disk%20H/VSC%20WorkSpace/Guvi/Tasks/Numpy_tasks.ipynb#ch0000058?line=5'>6</a>\u001b[0m \u001b[39mprint\u001b[39m(Z\u001b[39m/\u001b[39m\u001b[39m1\u001b[39m\u001b[39m/\u001b[39m\u001b[39m1\u001b[39m)\n\u001b[0;32m----> <a href='vscode-notebook-cell:/media/ashrulochan/EAD0BE77D0BE4999/Disk%20H/VSC%20WorkSpace/Guvi/Tasks/Numpy_tasks.ipynb#ch0000058?line=6'>7</a>\u001b[0m \u001b[39mprint\u001b[39m(Z\u001b[39m<\u001b[39mZ\u001b[39m>\u001b[39mZ)\n",
            "\u001b[0;31mValueError\u001b[0m: The truth value of an array with more than one element is ambiguous. Use a.any() or a.all()"
          ]
        }
      ],
      "source": [
        "Z = np.ones(3, dtype=int)\n",
        "print(Z**Z)\n",
        "print(2 << Z >> 2)\n",
        "print(Z <- Z)\n",
        "print(1j*Z)\n",
        "print(Z/1/1)\n",
        "print(Z<Z>Z)"
      ]
    },
    {
      "cell_type": "markdown",
      "metadata": {
        "id": "F1NzrT0U_5tN"
      },
      "source": [
        "#### 28. What are the result of the following expressions?"
      ]
    },
    {
      "cell_type": "markdown",
      "metadata": {
        "id": "NFcK8iiZ_5tO"
      },
      "source": [
        "```python\n",
        "np.array(0) / np.array(0)\n",
        "np.array(0) // np.array(0)\n",
        "np.array([np.nan]).astype(int).astype(float)\n",
        "```"
      ]
    },
    {
      "cell_type": "code",
      "execution_count": 24,
      "metadata": {
        "id": "7M-z3rYP_5tP"
      },
      "outputs": [
        {
          "name": "stdout",
          "output_type": "stream",
          "text": [
            "nan\n",
            "nan\n",
            "[-9.22337204e+18]\n"
          ]
        },
        {
          "name": "stderr",
          "output_type": "stream",
          "text": [
            "/tmp/ipykernel_8614/43632603.py:1: RuntimeWarning: invalid value encountered in true_divide\n",
            "  print(np.array(0) / np.array(0))\n",
            "/tmp/ipykernel_8614/43632603.py:2: RuntimeWarning: invalid value encountered in true_divide\n",
            "  print(np.array(0) / np.array(0))\n"
          ]
        }
      ],
      "source": [
        "print(np.array(0) / np.array(0))\n",
        "print(np.array(0) / np.array(0))\n",
        "print(np.array([np.nan]).astype(int).astype(float))"
      ]
    },
    {
      "cell_type": "markdown",
      "metadata": {
        "id": "yjNmg6Dl_5tP"
      },
      "source": [
        "#### 29. How to round away from zero a float array ? (★☆☆) \n",
        "(**hint**: np.uniform, np.copysign, np.ceil, np.abs)"
      ]
    },
    {
      "cell_type": "code",
      "execution_count": 25,
      "metadata": {
        "id": "t8qMPsW9_5tQ"
      },
      "outputs": [
        {
          "name": "stdout",
          "output_type": "stream",
          "text": [
            "[-9. -2. -5. -4. -7. -9. -3. -4. 10.  3.]\n"
          ]
        }
      ],
      "source": [
        "arr = np.random.uniform(-10, +10, 10)\n",
        "print(np.copysign(np.ceil(np.abs(arr)), arr))"
      ]
    },
    {
      "cell_type": "markdown",
      "metadata": {
        "id": "Vh8-nerA_5tQ"
      },
      "source": [
        "#### 30. How to find common values between two arrays? (★☆☆) \n",
        "(**hint**: np.intersect1d)"
      ]
    },
    {
      "cell_type": "code",
      "execution_count": 26,
      "metadata": {
        "id": "B5r9cdSz_5tQ"
      },
      "outputs": [
        {
          "name": "stdout",
          "output_type": "stream",
          "text": [
            "[0 1 2 5 6]\n"
          ]
        }
      ],
      "source": [
        "arr1 = np.random.randint(0,10,10)\n",
        "arr2 = np.random.randint(0,10, 10)\n",
        "print(np.intersect1d(arr1, arr2))"
      ]
    },
    {
      "cell_type": "markdown",
      "metadata": {
        "id": "vnt808H5_5tQ"
      },
      "source": [
        "#### 31. How to ignore all numpy warnings (not recommended)? (★☆☆) \n",
        "(**hint**: np.seterr, np.errstate)"
      ]
    },
    {
      "cell_type": "code",
      "execution_count": null,
      "metadata": {
        "id": "T9B5Y4YM_5tR"
      },
      "outputs": [],
      "source": [
        "defaults = np.seterr(all = 'ignore')\n",
        "\n"
      ]
    },
    {
      "cell_type": "markdown",
      "metadata": {
        "id": "MaqfsNrU_5tR"
      },
      "source": [
        "#### 32. Is the following expressions true? (★☆☆) \n",
        "(**hint**: imaginary number)"
      ]
    },
    {
      "cell_type": "markdown",
      "metadata": {
        "id": "ER4VrSkL_5tR"
      },
      "source": [
        "```python\n",
        "np.sqrt(-1) == np.emath.sqrt(-1)\n",
        "```"
      ]
    },
    {
      "cell_type": "code",
      "execution_count": 27,
      "metadata": {
        "id": "lP1h5jQ__5tR"
      },
      "outputs": [
        {
          "name": "stderr",
          "output_type": "stream",
          "text": [
            "/tmp/ipykernel_8614/244602691.py:1: RuntimeWarning: invalid value encountered in sqrt\n",
            "  np.sqrt(-1) == np.emath.sqrt(-1)\n"
          ]
        },
        {
          "data": {
            "text/plain": [
              "False"
            ]
          },
          "execution_count": 27,
          "metadata": {},
          "output_type": "execute_result"
        }
      ],
      "source": [
        "np.sqrt(-1) == np.emath.sqrt(-1)"
      ]
    },
    {
      "cell_type": "markdown",
      "metadata": {
        "id": "SAtKkoDi_5tS"
      },
      "source": [
        "#### 33. How to get the dates of yesterday, today and tomorrow? (★☆☆) \n",
        "(**hint**: np.datetime64, np.timedelta64)"
      ]
    },
    {
      "cell_type": "code",
      "execution_count": 29,
      "metadata": {
        "collapsed": true,
        "id": "4CoQ6yrR_5tS"
      },
      "outputs": [
        {
          "name": "stdout",
          "output_type": "stream",
          "text": [
            "Yesterday:  2022-02-11\n",
            "Today:  2022-02-12\n",
            "Tomorrow:  2022-02-13\n"
          ]
        }
      ],
      "source": [
        "yesterday = np.datetime64('today', 'D') - np.timedelta64(1,'D')\n",
        "today = np.datetime64('today', 'D')\n",
        "tomorrow = np.datetime64('today', 'D') + np.timedelta64(1,'D')\n",
        "\n",
        "print('Yesterday: ', yesterday)\n",
        "print('Today: ', today)\n",
        "print('Tomorrow: ', tomorrow)"
      ]
    },
    {
      "cell_type": "markdown",
      "metadata": {
        "id": "9GhK4E46_5tS"
      },
      "source": [
        "#### 34. How to get all the dates corresponding to the month of July 2016? (★★☆) \n",
        "(**hint**: np.arange(dtype=datetime64\\['D'\\]))"
      ]
    },
    {
      "cell_type": "code",
      "execution_count": 31,
      "metadata": {
        "id": "GVHoW-ND_5tS"
      },
      "outputs": [
        {
          "data": {
            "text/plain": [
              "[datetime.date(2016, 7, 1),\n",
              " datetime.date(2016, 7, 2),\n",
              " datetime.date(2016, 7, 3),\n",
              " datetime.date(2016, 7, 4),\n",
              " datetime.date(2016, 7, 5),\n",
              " datetime.date(2016, 7, 6),\n",
              " datetime.date(2016, 7, 7),\n",
              " datetime.date(2016, 7, 8),\n",
              " datetime.date(2016, 7, 9),\n",
              " datetime.date(2016, 7, 10),\n",
              " datetime.date(2016, 7, 11),\n",
              " datetime.date(2016, 7, 12),\n",
              " datetime.date(2016, 7, 13),\n",
              " datetime.date(2016, 7, 14),\n",
              " datetime.date(2016, 7, 15),\n",
              " datetime.date(2016, 7, 16),\n",
              " datetime.date(2016, 7, 17),\n",
              " datetime.date(2016, 7, 18),\n",
              " datetime.date(2016, 7, 19),\n",
              " datetime.date(2016, 7, 20),\n",
              " datetime.date(2016, 7, 21),\n",
              " datetime.date(2016, 7, 22),\n",
              " datetime.date(2016, 7, 23),\n",
              " datetime.date(2016, 7, 24),\n",
              " datetime.date(2016, 7, 25),\n",
              " datetime.date(2016, 7, 26),\n",
              " datetime.date(2016, 7, 27),\n",
              " datetime.date(2016, 7, 28),\n",
              " datetime.date(2016, 7, 29),\n",
              " datetime.date(2016, 7, 30),\n",
              " datetime.date(2016, 7, 31)]"
            ]
          },
          "execution_count": 31,
          "metadata": {},
          "output_type": "execute_result"
        }
      ],
      "source": [
        "np.arange('2016-07', '2016-08', dtype='datetime64[D]').tolist()"
      ]
    },
    {
      "cell_type": "markdown",
      "metadata": {
        "id": "b9sIs78N_5tT"
      },
      "source": [
        "#### 35. How to compute ((A+B)\\*(-A/2)) in place (without copy)? (★★☆) \n",
        "(**hint**: np.add(out=), np.negative(out=), np.multiply(out=), np.divide(out=))"
      ]
    },
    {
      "cell_type": "code",
      "execution_count": 33,
      "metadata": {
        "id": "9rDi_EvD_5tU"
      },
      "outputs": [
        {
          "data": {
            "text/plain": [
              "array([-1.5, -1.5, -1.5, -1.5, -1.5])"
            ]
          },
          "execution_count": 33,
          "metadata": {},
          "output_type": "execute_result"
        }
      ],
      "source": [
        "A = np.ones(5) * 1\n",
        "B = np.ones(5) * 2\n",
        "C = np.ones(5) * 3\n",
        "\n",
        "np.add(A,B, out=B)\n",
        "np.divide(A,2, out=A)\n",
        "np.negative(A, out=A)\n",
        "np.multiply(A,B, out=A)"
      ]
    },
    {
      "cell_type": "markdown",
      "metadata": {
        "id": "GVNGI9Pp_5tU"
      },
      "source": [
        "#### 36. Extract the integer part of a random array using 5 different methods (★★☆) \n",
        "(**hint**: %, np.floor, np.ceil, astype, np.trunc)"
      ]
    },
    {
      "cell_type": "code",
      "execution_count": 38,
      "metadata": {
        "id": "iTz9yG6G_5tV"
      },
      "outputs": [
        {
          "name": "stdout",
          "output_type": "stream",
          "text": [
            "[3. 2. 4. 5. 6. 1. 6. 4. 6. 8.]\n",
            "[3. 2. 4. 5. 6. 1. 6. 4. 6. 8.]\n",
            "[3. 2. 4. 5. 6. 1. 6. 4. 6. 8.]\n",
            "[3 2 4 5 6 1 6 4 6 8]\n",
            "[3. 2. 4. 5. 6. 1. 6. 4. 6. 8.]\n"
          ]
        }
      ],
      "source": [
        "arr = np.random.uniform(1,10,10)\n",
        "\n",
        "# using % \n",
        "print(arr - arr%1)\n",
        "\n",
        "# using floor()\n",
        "print(np.floor(arr))\n",
        "\n",
        "# using ceil()\n",
        "print(np.ceil(arr)-1)\n",
        "\n",
        "# using astype()\n",
        "print(arr.astype(int))\n",
        "\n",
        "# using trunc function\n",
        "print(np.trunc(arr))"
      ]
    },
    {
      "cell_type": "markdown",
      "metadata": {
        "id": "7l6grGKK_5tW"
      },
      "source": [
        "#### 37. Create a 5x5 matrix with row values ranging from 0 to 4 (★★☆) \n",
        "(**hint**: np.arange)"
      ]
    },
    {
      "cell_type": "code",
      "execution_count": 39,
      "metadata": {
        "id": "jZg7n_E2_5tX"
      },
      "outputs": [
        {
          "data": {
            "text/plain": [
              "array([[0., 1., 2., 3., 4.],\n",
              "       [0., 1., 2., 3., 4.],\n",
              "       [0., 1., 2., 3., 4.],\n",
              "       [0., 1., 2., 3., 4.],\n",
              "       [0., 1., 2., 3., 4.]])"
            ]
          },
          "execution_count": 39,
          "metadata": {},
          "output_type": "execute_result"
        }
      ],
      "source": [
        "arr = np.zeros((5,5))\n",
        "\n",
        "arr = arr + np.arange(5)\n",
        "\n",
        "arr"
      ]
    },
    {
      "cell_type": "markdown",
      "metadata": {
        "id": "QOhy7Fjc_5tY"
      },
      "source": [
        "#### 38. Consider a generator function that generates 10 integers and use it to build an array (★☆☆) \n",
        "(**hint**: np.fromiter)"
      ]
    },
    {
      "cell_type": "code",
      "execution_count": 42,
      "metadata": {
        "id": "TU6KjgLn_5tZ"
      },
      "outputs": [
        {
          "data": {
            "text/plain": [
              "array([0., 1., 2., 3., 4., 5., 6., 7., 8., 9.])"
            ]
          },
          "execution_count": 42,
          "metadata": {},
          "output_type": "execute_result"
        }
      ],
      "source": [
        "def generator():\n",
        "    for x in range(10):\n",
        "        yield x\n",
        "\n",
        "\n",
        "np.fromiter(generator(), dtype=float, count=-1)"
      ]
    },
    {
      "cell_type": "markdown",
      "metadata": {
        "id": "rKZT1iF4_5tZ"
      },
      "source": [
        "#### 39. Create a vector of size 10 with values ranging from 0 to 1, both excluded (★★☆) \n",
        "(**hint**: np.linspace)"
      ]
    },
    {
      "cell_type": "code",
      "execution_count": 45,
      "metadata": {
        "id": "ZkUukCaN_5ta"
      },
      "outputs": [
        {
          "data": {
            "text/plain": [
              "array([0.09090909, 0.18181818, 0.27272727, 0.36363636, 0.45454545,\n",
              "       0.54545455, 0.63636364, 0.72727273, 0.81818182, 0.90909091])"
            ]
          },
          "execution_count": 45,
          "metadata": {},
          "output_type": "execute_result"
        }
      ],
      "source": [
        "np.linspace(0,1,12, endpoint=True)[1:-1]"
      ]
    },
    {
      "cell_type": "markdown",
      "metadata": {
        "id": "OC3-F3PT_5ta"
      },
      "source": [
        "#### 40. Create a random vector of size 10 and sort it (★★☆) \n",
        "(**hint**: sort)"
      ]
    },
    {
      "cell_type": "code",
      "execution_count": 46,
      "metadata": {
        "id": "VGKEbHrN_5ta"
      },
      "outputs": [
        {
          "data": {
            "text/plain": [
              "array([0.07565334, 0.1703312 , 0.17850702, 0.25242525, 0.35124427,\n",
              "       0.40360665, 0.67330728, 0.68495898, 0.7723695 , 0.97014945])"
            ]
          },
          "execution_count": 46,
          "metadata": {},
          "output_type": "execute_result"
        }
      ],
      "source": [
        "arr = np.random.random(10)\n",
        "arr.sort()\n",
        "arr"
      ]
    },
    {
      "cell_type": "markdown",
      "metadata": {
        "id": "xwZPhfr7_5tb"
      },
      "source": [
        "#### 41. How to sum a small array faster than np.sum? (★★☆) \n",
        "(**hint**: np.add.reduce)"
      ]
    },
    {
      "cell_type": "code",
      "execution_count": 48,
      "metadata": {
        "id": "Jxhf0gZF_5tb"
      },
      "outputs": [
        {
          "name": "stdout",
          "output_type": "stream",
          "text": [
            "[ 0  1  2  3  4  5  6  7  8  9 10 11 12 13 14]\n"
          ]
        },
        {
          "data": {
            "text/plain": [
              "105"
            ]
          },
          "execution_count": 48,
          "metadata": {},
          "output_type": "execute_result"
        }
      ],
      "source": [
        "arr = np.arange(15)\n",
        "print(arr)\n",
        "np.add.reduce(arr)"
      ]
    },
    {
      "cell_type": "markdown",
      "metadata": {
        "id": "2vt7zON__5tb"
      },
      "source": [
        "#### 42. Consider two random array A and B, check if they are equal (★★☆) \n",
        "(**hint**: np.allclose, np.array\\_equal)"
      ]
    },
    {
      "cell_type": "code",
      "execution_count": 55,
      "metadata": {
        "id": "Ff0Sr8E4_5tc"
      },
      "outputs": [
        {
          "name": "stdout",
          "output_type": "stream",
          "text": [
            "False\n",
            "False\n"
          ]
        }
      ],
      "source": [
        "A = np.random.randint(0,10,10)\n",
        "B = np.random.randint(0,10,10)\n",
        "\n",
        "print(np.allclose(A,B))\n",
        "\n",
        "print(np.array_equal(A,B))"
      ]
    },
    {
      "cell_type": "markdown",
      "metadata": {
        "id": "mw6h3Lgj_5tc"
      },
      "source": [
        "#### 43. Make an array immutable (read-only) (★★☆) \n",
        "(**hint**: flags.writeable)"
      ]
    },
    {
      "cell_type": "code",
      "execution_count": 57,
      "metadata": {
        "id": "sHnIRRuO_5td"
      },
      "outputs": [
        {
          "name": "stdout",
          "output_type": "stream",
          "text": [
            "[1 1 1 1 1]\n"
          ]
        },
        {
          "ename": "ValueError",
          "evalue": "assignment destination is read-only",
          "output_type": "error",
          "traceback": [
            "\u001b[0;31m---------------------------------------------------------------------------\u001b[0m",
            "\u001b[0;31mValueError\u001b[0m                                Traceback (most recent call last)",
            "\u001b[1;32m/media/ashrulochan/EAD0BE77D0BE4999/Disk H/VSC WorkSpace/Guvi/Tasks/Numpy_tasks.ipynb Cell 94'\u001b[0m in \u001b[0;36m<module>\u001b[0;34m\u001b[0m\n\u001b[1;32m      <a href='vscode-notebook-cell:/media/ashrulochan/EAD0BE77D0BE4999/Disk%20H/VSC%20WorkSpace/Guvi/Tasks/Numpy_tasks.ipynb#ch0000092?line=1'>2</a>\u001b[0m arr\u001b[39m.\u001b[39mflags\u001b[39m.\u001b[39mwriteable\u001b[39m=\u001b[39m\u001b[39mFalse\u001b[39;00m\n\u001b[1;32m      <a href='vscode-notebook-cell:/media/ashrulochan/EAD0BE77D0BE4999/Disk%20H/VSC%20WorkSpace/Guvi/Tasks/Numpy_tasks.ipynb#ch0000092?line=2'>3</a>\u001b[0m \u001b[39mprint\u001b[39m(arr)\n\u001b[0;32m----> <a href='vscode-notebook-cell:/media/ashrulochan/EAD0BE77D0BE4999/Disk%20H/VSC%20WorkSpace/Guvi/Tasks/Numpy_tasks.ipynb#ch0000092?line=3'>4</a>\u001b[0m arr[\u001b[39m1\u001b[39m] \u001b[39m=\u001b[39m \u001b[39m0\u001b[39m\n",
            "\u001b[0;31mValueError\u001b[0m: assignment destination is read-only"
          ]
        }
      ],
      "source": [
        "arr = np.ones(5, dtype=int)\n",
        "arr.flags.writeable=False\n",
        "print(arr)\n",
        "arr[1] = 0 "
      ]
    },
    {
      "cell_type": "markdown",
      "metadata": {
        "id": "lFjUif5H_5td"
      },
      "source": [
        "#### 44. Consider a random 10x2 matrix representing cartesian coordinates, convert them to polar coordinates (★★☆) \n",
        "(**hint**: np.sqrt, np.arctan2)"
      ]
    },
    {
      "cell_type": "markdown",
      "metadata": {},
      "source": [
        "#### Note:\n",
        "\n",
        "- In cartesian coordinates, there is exactly one set of coordinates for any given point.\n",
        "- In polar coordinates, there is literally an infinite number of coordinates for a given point.\n",
        "\n"
      ]
    },
    {
      "cell_type": "code",
      "execution_count": 60,
      "metadata": {
        "id": "5IbwjOo-_5td"
      },
      "outputs": [
        {
          "name": "stdout",
          "output_type": "stream",
          "text": [
            "original array:\n",
            " [[0.22522948 0.21934131]\n",
            " [0.59338825 0.45900841]\n",
            " [0.78173983 0.94342402]\n",
            " [0.83075799 0.49630673]\n",
            " [0.50566776 0.48491346]\n",
            " [0.24998324 0.86840885]\n",
            " [0.38657671 0.23927121]\n",
            " [0.96329345 0.48190285]\n",
            " [0.19408451 0.02728577]\n",
            " [0.67339217 0.5521332 ]]\n",
            "\n",
            "[0.22522948 0.59338825 0.78173983 0.83075799 0.50566776 0.24998324\n",
            " 0.38657671 0.96329345 0.19408451 0.67339217]\n",
            "[0.21934131 0.45900841 0.94342402 0.49630673 0.48491346 0.86840885\n",
            " 0.23927121 0.48190285 0.02728577 0.5521332 ]\n",
            "\n",
            "[0.31438659 0.75019886 1.22522082 0.96771856 0.70060042 0.90367336\n",
            " 0.45463421 1.07710939 0.19599314 0.87080887]\n",
            "[0.77215431 0.65839608 0.87884626 0.53851611 0.76444959 1.29051075\n",
            " 0.55423609 0.4638603  0.13967168 0.68677469]\n"
          ]
        }
      ],
      "source": [
        "arr = np.random.random((10,2))\n",
        "print(\"original array:\\n\",arr)\n",
        "\n",
        "x,y = arr[:,0], arr[:,1]\n",
        "print('')\n",
        "print(x)\n",
        "print(y)\n",
        "\n",
        "A = np.sqrt(x**2 + y** 2)\n",
        "B = np.arctan2(y,x)\n",
        "print('')\n",
        "print(A)\n",
        "print(B)\n",
        "\n"
      ]
    },
    {
      "cell_type": "markdown",
      "metadata": {
        "id": "L-boBg38_5te"
      },
      "source": [
        "#### 45. Create random vector of size 10 and replace the maximum value by 0 (★★☆) \n",
        "(**hint**: argmax)"
      ]
    },
    {
      "cell_type": "code",
      "execution_count": 63,
      "metadata": {
        "id": "sEnSh-30_5te"
      },
      "outputs": [
        {
          "name": "stdout",
          "output_type": "stream",
          "text": [
            "Original array:\n",
            " [0.03895126 0.69805708 0.66912974 0.09985579 0.2850891  0.9949433\n",
            " 0.44867215 0.55063407 0.87758566 0.21077154]\n",
            "Altered array:\n",
            " [0.03895126 0.69805708 0.66912974 0.09985579 0.2850891  0.\n",
            " 0.44867215 0.55063407 0.87758566 0.21077154]\n"
          ]
        }
      ],
      "source": [
        "arr = np.random.rand(10)\n",
        "print('Original array:\\n',arr)\n",
        "arr[arr.argmax()] = 0\n",
        "print('Altered array:\\n',arr)"
      ]
    },
    {
      "cell_type": "markdown",
      "metadata": {
        "id": "-1P0wDWQ_5te"
      },
      "source": [
        "#### 46. Create a structured array with `x` and `y` coordinates covering the \\[0,1\\]x\\[0,1\\] area (★★☆) \n",
        "(**hint**: np.meshgrid)"
      ]
    },
    {
      "cell_type": "code",
      "execution_count": 1,
      "metadata": {
        "id": "c5oUaj_S_5te"
      },
      "outputs": [
        {
          "data": {
            "text/plain": [
              "array([[(0.        , 0.        ), (0.11111111, 0.        ),\n",
              "        (0.22222222, 0.        ), (0.33333333, 0.        ),\n",
              "        (0.44444444, 0.        ), (0.55555556, 0.        ),\n",
              "        (0.66666667, 0.        ), (0.77777778, 0.        ),\n",
              "        (0.88888889, 0.        ), (1.        , 0.        )],\n",
              "       [(0.        , 0.11111111), (0.11111111, 0.11111111),\n",
              "        (0.22222222, 0.11111111), (0.33333333, 0.11111111),\n",
              "        (0.44444444, 0.11111111), (0.55555556, 0.11111111),\n",
              "        (0.66666667, 0.11111111), (0.77777778, 0.11111111),\n",
              "        (0.88888889, 0.11111111), (1.        , 0.11111111)],\n",
              "       [(0.        , 0.22222222), (0.11111111, 0.22222222),\n",
              "        (0.22222222, 0.22222222), (0.33333333, 0.22222222),\n",
              "        (0.44444444, 0.22222222), (0.55555556, 0.22222222),\n",
              "        (0.66666667, 0.22222222), (0.77777778, 0.22222222),\n",
              "        (0.88888889, 0.22222222), (1.        , 0.22222222)],\n",
              "       [(0.        , 0.33333333), (0.11111111, 0.33333333),\n",
              "        (0.22222222, 0.33333333), (0.33333333, 0.33333333),\n",
              "        (0.44444444, 0.33333333), (0.55555556, 0.33333333),\n",
              "        (0.66666667, 0.33333333), (0.77777778, 0.33333333),\n",
              "        (0.88888889, 0.33333333), (1.        , 0.33333333)],\n",
              "       [(0.        , 0.44444444), (0.11111111, 0.44444444),\n",
              "        (0.22222222, 0.44444444), (0.33333333, 0.44444444),\n",
              "        (0.44444444, 0.44444444), (0.55555556, 0.44444444),\n",
              "        (0.66666667, 0.44444444), (0.77777778, 0.44444444),\n",
              "        (0.88888889, 0.44444444), (1.        , 0.44444444)],\n",
              "       [(0.        , 0.55555556), (0.11111111, 0.55555556),\n",
              "        (0.22222222, 0.55555556), (0.33333333, 0.55555556),\n",
              "        (0.44444444, 0.55555556), (0.55555556, 0.55555556),\n",
              "        (0.66666667, 0.55555556), (0.77777778, 0.55555556),\n",
              "        (0.88888889, 0.55555556), (1.        , 0.55555556)],\n",
              "       [(0.        , 0.66666667), (0.11111111, 0.66666667),\n",
              "        (0.22222222, 0.66666667), (0.33333333, 0.66666667),\n",
              "        (0.44444444, 0.66666667), (0.55555556, 0.66666667),\n",
              "        (0.66666667, 0.66666667), (0.77777778, 0.66666667),\n",
              "        (0.88888889, 0.66666667), (1.        , 0.66666667)],\n",
              "       [(0.        , 0.77777778), (0.11111111, 0.77777778),\n",
              "        (0.22222222, 0.77777778), (0.33333333, 0.77777778),\n",
              "        (0.44444444, 0.77777778), (0.55555556, 0.77777778),\n",
              "        (0.66666667, 0.77777778), (0.77777778, 0.77777778),\n",
              "        (0.88888889, 0.77777778), (1.        , 0.77777778)],\n",
              "       [(0.        , 0.88888889), (0.11111111, 0.88888889),\n",
              "        (0.22222222, 0.88888889), (0.33333333, 0.88888889),\n",
              "        (0.44444444, 0.88888889), (0.55555556, 0.88888889),\n",
              "        (0.66666667, 0.88888889), (0.77777778, 0.88888889),\n",
              "        (0.88888889, 0.88888889), (1.        , 0.88888889)],\n",
              "       [(0.        , 1.        ), (0.11111111, 1.        ),\n",
              "        (0.22222222, 1.        ), (0.33333333, 1.        ),\n",
              "        (0.44444444, 1.        ), (0.55555556, 1.        ),\n",
              "        (0.66666667, 1.        ), (0.77777778, 1.        ),\n",
              "        (0.88888889, 1.        ), (1.        , 1.        )]],\n",
              "      dtype=[('x', '<f8'), ('y', '<f8')])"
            ]
          },
          "execution_count": 1,
          "metadata": {},
          "output_type": "execute_result"
        }
      ],
      "source": [
        "import numpy as np\n",
        "\n",
        "arr = np.zeros((10,10), [('x', float), ('y', float)])\n",
        "arr['x'], arr['y'] = np.meshgrid(np.linspace(0,1,10), np.linspace(0,1,10))\n",
        "\n",
        "arr"
      ]
    },
    {
      "cell_type": "markdown",
      "metadata": {
        "id": "inyUWnLR_5tf"
      },
      "source": [
        "####  47. Given two arrays, X and Y, construct the Cauchy matrix C (Cij =1/(xi - yj)) \n",
        "(**hint**: np.subtract.outer)"
      ]
    },
    {
      "cell_type": "code",
      "execution_count": 2,
      "metadata": {
        "id": "pGNquyrE_5tf"
      },
      "outputs": [
        {
          "data": {
            "text/plain": [
              "3638.163637117973"
            ]
          },
          "execution_count": 2,
          "metadata": {},
          "output_type": "execute_result"
        }
      ],
      "source": [
        "X = np.arange(8)\n",
        "Y = X + 0.5\n",
        "\n",
        "C = 1 /np.subtract.outer(X,Y)\n",
        "\n",
        "np.linalg.det(C)"
      ]
    },
    {
      "cell_type": "markdown",
      "metadata": {
        "id": "RIlo2X2y_5tf"
      },
      "source": [
        "#### 48. Print the minimum and maximum representable value for each numpy scalar type (★★☆) \n",
        "(**hint**: np.iinfo, np.finfo, eps)"
      ]
    },
    {
      "cell_type": "code",
      "execution_count": 3,
      "metadata": {
        "id": "1vsQA5JS_5tf"
      },
      "outputs": [
        {
          "name": "stdout",
          "output_type": "stream",
          "text": [
            "-128\n",
            "127\n",
            "-2147483648\n",
            "2147483647\n",
            "-9223372036854775808\n",
            "9223372036854775807\n",
            "-3.4028235e+38\n",
            "3.4028235e+38\n",
            "1.1920929e-07\n",
            "-1.7976931348623157e+308\n",
            "1.7976931348623157e+308\n",
            "2.220446049250313e-16\n"
          ]
        }
      ],
      "source": [
        "for dtype in [np.int8, np.int32, np.int64]:\n",
        "    print(np.iinfo(dtype).min)\n",
        "    print(np.iinfo(dtype).max)\n",
        "\n",
        "for dtype in [np.float32, np.float64]:\n",
        "    print(np.finfo(dtype).min)\n",
        "    print(np.finfo(dtype).max)\n",
        "    print(np.finfo(dtype).eps)\n"
      ]
    },
    {
      "cell_type": "markdown",
      "metadata": {
        "id": "BQmstezB_5tf"
      },
      "source": [
        "#### 49. How to print all the values of an array? (★★☆) \n",
        "(**hint**: np.set\\_printoptions)"
      ]
    },
    {
      "cell_type": "code",
      "execution_count": 8,
      "metadata": {
        "id": "CWL6Vqnl_5tg"
      },
      "outputs": [
        {
          "name": "stdout",
          "output_type": "stream",
          "text": [
            "[[0. 0. 0. 0. 0. 0. 0. 0. 0. 0.]\n",
            " [0. 0. 0. 0. 0. 0. 0. 0. 0. 0.]\n",
            " [0. 0. 0. 0. 0. 0. 0. 0. 0. 0.]\n",
            " [0. 0. 0. 0. 0. 0. 0. 0. 0. 0.]\n",
            " [0. 0. 0. 0. 0. 0. 0. 0. 0. 0.]\n",
            " [0. 0. 0. 0. 0. 0. 0. 0. 0. 0.]\n",
            " [0. 0. 0. 0. 0. 0. 0. 0. 0. 0.]\n",
            " [0. 0. 0. 0. 0. 0. 0. 0. 0. 0.]\n",
            " [0. 0. 0. 0. 0. 0. 0. 0. 0. 0.]\n",
            " [0. 0. 0. 0. 0. 0. 0. 0. 0. 0.]]\n"
          ]
        }
      ],
      "source": [
        "np.set_printoptions()\n",
        "\n",
        "arr = np.zeros((10,10))\n",
        "print(arr)"
      ]
    },
    {
      "cell_type": "markdown",
      "metadata": {
        "id": "Peeu6_Uf_5tg"
      },
      "source": [
        "#### 50. How to find the closest value (to a given scalar) in a vector? (★★☆) \n",
        "(**hint**: argmin)"
      ]
    },
    {
      "cell_type": "code",
      "execution_count": 10,
      "metadata": {
        "id": "GfF0yWGt_5tg"
      },
      "outputs": [
        {
          "data": {
            "text/plain": [
              "72"
            ]
          },
          "execution_count": 10,
          "metadata": {},
          "output_type": "execute_result"
        }
      ],
      "source": [
        "arr = np.arange(100)\n",
        "X = np.random.uniform(0,100)\n",
        "v = (np.abs(arr-X)).argmin()\n",
        "\n",
        "arr[v]"
      ]
    },
    {
      "cell_type": "markdown",
      "metadata": {
        "id": "F_6R09yX_5tg"
      },
      "source": [
        "#### 51. Create a structured array representing a position (x,y) and a color (r,g,b) (★★☆) \n",
        "(**hint**: dtype)"
      ]
    },
    {
      "cell_type": "code",
      "execution_count": 11,
      "metadata": {
        "id": "wPjPFmTJ_5tg"
      },
      "outputs": [
        {
          "name": "stderr",
          "output_type": "stream",
          "text": [
            "/tmp/ipykernel_180217/1463489313.py:1: FutureWarning: Passing (type, 1) or '1type' as a synonym of type is deprecated; in a future version of numpy, it will be understood as (type, (1,)) / '(1,)type'.\n",
            "  arr = np.zeros(\n"
          ]
        },
        {
          "data": {
            "text/plain": [
              "array([((0., 0.), (0., 0., 0.)), ((0., 0.), (0., 0., 0.)),\n",
              "       ((0., 0.), (0., 0., 0.)), ((0., 0.), (0., 0., 0.)),\n",
              "       ((0., 0.), (0., 0., 0.)), ((0., 0.), (0., 0., 0.)),\n",
              "       ((0., 0.), (0., 0., 0.)), ((0., 0.), (0., 0., 0.)),\n",
              "       ((0., 0.), (0., 0., 0.)), ((0., 0.), (0., 0., 0.))],\n",
              "      dtype=[('position', [('x', '<f8'), ('y', '<f8')]), ('color', [('r', '<f8'), ('g', '<f8'), ('b', '<f8')])])"
            ]
          },
          "execution_count": 11,
          "metadata": {},
          "output_type": "execute_result"
        }
      ],
      "source": [
        "arr = np.zeros(\n",
        "    10,\n",
        "    [\n",
        "        ('position', [\n",
        "            ('x', float, 1),\n",
        "            ('y', float, 1)\n",
        "        ]),\n",
        "        ('color', [\n",
        "            ('r', float, 1),\n",
        "            ('g', float, 1),\n",
        "            ('b', float, 1)\n",
        "        ])\n",
        "    ]\n",
        ")\n",
        "\n",
        "arr"
      ]
    },
    {
      "cell_type": "markdown",
      "metadata": {
        "id": "DTLl7R15_5th"
      },
      "source": [
        "#### 52. Consider a random vector with shape (100,2) representing coordinates, find point by point distances (★★☆) \n",
        "(**hint**: np.atleast\\_2d, T, np.sqrt)"
      ]
    },
    {
      "cell_type": "code",
      "execution_count": 12,
      "metadata": {
        "id": "IApw1nQ9_5th"
      },
      "outputs": [
        {
          "data": {
            "text/plain": [
              "array([[0.        , 0.32261113, 0.47464093, ..., 0.50228198, 0.60624287,\n",
              "        0.86107157],\n",
              "       [0.32261113, 0.        , 0.39553281, ..., 0.79441069, 0.71534384,\n",
              "        0.92133397],\n",
              "       [0.47464093, 0.39553281, 0.        , ..., 0.70499713, 0.39198527,\n",
              "        0.54302044],\n",
              "       ...,\n",
              "       [0.50228198, 0.79441069, 0.70499713, ..., 0.        , 0.49549302,\n",
              "        0.72833149],\n",
              "       [0.60624287, 0.71534384, 0.39198527, ..., 0.49549302, 0.        ,\n",
              "        0.26422877],\n",
              "       [0.86107157, 0.92133397, 0.54302044, ..., 0.72833149, 0.26422877,\n",
              "        0.        ]])"
            ]
          },
          "execution_count": 12,
          "metadata": {},
          "output_type": "execute_result"
        }
      ],
      "source": [
        "arr = np.random.random((100,2))\n",
        "\n",
        "X,Y = np.atleast_2d(arr[:,0], arr[:,1])\n",
        "\n",
        "distance = np.sqrt((X-X.T)**2 + (Y-Y.T)**2)\n",
        "\n",
        "distance"
      ]
    },
    {
      "cell_type": "markdown",
      "metadata": {
        "id": "uZKVS4kP_5th"
      },
      "source": [
        "#### 53. How to convert a float (32 bits) array into an integer (32 bits) in place? \n",
        "(**hint**: astype(copy=False))"
      ]
    },
    {
      "cell_type": "code",
      "execution_count": 15,
      "metadata": {
        "id": "U6Cn5YiD_5th"
      },
      "outputs": [
        {
          "name": "stdout",
          "output_type": "stream",
          "text": [
            "[0 1 2 3 4 5 6 7 8 9]\n"
          ]
        }
      ],
      "source": [
        "arr = np.arange(10, dtype=np.float32)\n",
        "arr = arr.astype(np.int32, copy=False)\n",
        "print(arr)"
      ]
    },
    {
      "cell_type": "markdown",
      "metadata": {
        "id": "A_tRFzdi_5ti"
      },
      "source": [
        "#### 54. How to read the following file? (★★☆) \n",
        "(**hint**: np.genfromtxt)"
      ]
    },
    {
      "cell_type": "markdown",
      "metadata": {
        "id": "yHSqJzmW_5ti"
      },
      "source": [
        "```\n",
        "1, 2, 3, 4, 5\n",
        "6,  ,  , 7, 8\n",
        " ,  , 9,10,11\n",
        "```"
      ]
    },
    {
      "cell_type": "code",
      "execution_count": 17,
      "metadata": {
        "id": "22mG_rBD_5ti"
      },
      "outputs": [
        {
          "name": "stdout",
          "output_type": "stream",
          "text": [
            "[[ 1  2  3  4  5]\n",
            " [ 6 -1 -1  7  8]\n",
            " [-1 -1  9 10 11]]\n"
          ]
        },
        {
          "name": "stderr",
          "output_type": "stream",
          "text": [
            "/tmp/ipykernel_180217/1375898314.py:10: DeprecationWarning: `np.int` is a deprecated alias for the builtin `int`. To silence this warning, use `int` by itself. Doing this will not modify any behavior and is safe. When replacing `np.int`, you may wish to use e.g. `np.int64` or `np.int32` to specify the precision. If you wish to review your current use, check the release note link for additional information.\n",
            "Deprecated in NumPy 1.20; for more details and guidance: https://numpy.org/devdocs/release/1.20.0-notes.html#deprecations\n",
            "  arr = np.genfromtxt(s, delimiter=',', dtype=np.int)\n"
          ]
        }
      ],
      "source": [
        "from io import StringIO\n",
        "\n",
        "s = StringIO(\n",
        "    \"\"\"\n",
        "    1,2,3,4,5\\n\n",
        "    6, , ,7,8\\n\n",
        "    , , 9, 10, 11\\n\"\"\"\n",
        ")\n",
        "\n",
        "arr = np.genfromtxt(s, delimiter=',', dtype=np.int)\n",
        "\n",
        "print(arr)"
      ]
    },
    {
      "cell_type": "markdown",
      "metadata": {
        "id": "LxnMLK4G_5tj"
      },
      "source": [
        "#### 55. What is the equivalent of enumerate for numpy arrays? (★★☆) \n",
        "(**hint**: np.ndenumerate, np.ndindex)"
      ]
    },
    {
      "cell_type": "code",
      "execution_count": 18,
      "metadata": {
        "id": "1slQrKF7_5tj"
      },
      "outputs": [
        {
          "data": {
            "text/plain": [
              "array([[0, 1, 2, 3, 4],\n",
              "       [5, 6, 7, 8, 9]])"
            ]
          },
          "execution_count": 18,
          "metadata": {},
          "output_type": "execute_result"
        }
      ],
      "source": [
        "arr = np.arange(10).reshape(2,5)\n",
        "\n",
        "arr"
      ]
    },
    {
      "cell_type": "code",
      "execution_count": 19,
      "metadata": {},
      "outputs": [
        {
          "name": "stdout",
          "output_type": "stream",
          "text": [
            "(0, 0) 0\n",
            "(0, 1) 1\n",
            "(0, 2) 2\n",
            "(0, 3) 3\n",
            "(0, 4) 4\n",
            "(1, 0) 5\n",
            "(1, 1) 6\n",
            "(1, 2) 7\n",
            "(1, 3) 8\n",
            "(1, 4) 9\n"
          ]
        }
      ],
      "source": [
        "for i,v in np.ndenumerate(arr):\n",
        "    print(i,v)"
      ]
    },
    {
      "cell_type": "code",
      "execution_count": 20,
      "metadata": {},
      "outputs": [
        {
          "name": "stdout",
          "output_type": "stream",
          "text": [
            "(0, 0) 0\n",
            "(0, 1) 1\n",
            "(0, 2) 2\n",
            "(0, 3) 3\n",
            "(0, 4) 4\n",
            "(1, 0) 5\n",
            "(1, 1) 6\n",
            "(1, 2) 7\n",
            "(1, 3) 8\n",
            "(1, 4) 9\n"
          ]
        }
      ],
      "source": [
        "for i in np.ndindex(arr.shape):\n",
        "    print(i, arr[i])"
      ]
    },
    {
      "cell_type": "markdown",
      "metadata": {
        "id": "yp5g5PBE_5tj"
      },
      "source": [
        "#### 56. Generate a generic 2D Gaussian-like array (★★☆) \n",
        "(**hint**: np.meshgrid, np.exp)"
      ]
    },
    {
      "cell_type": "code",
      "execution_count": 21,
      "metadata": {
        "id": "GvWZFg0s_5tj"
      },
      "outputs": [
        {
          "data": {
            "text/plain": [
              "array([[0.36787944, 0.44822088, 0.51979489, 0.57375342, 0.60279818,\n",
              "        0.60279818, 0.57375342, 0.51979489, 0.44822088, 0.36787944],\n",
              "       [0.44822088, 0.54610814, 0.63331324, 0.69905581, 0.73444367,\n",
              "        0.73444367, 0.69905581, 0.63331324, 0.54610814, 0.44822088],\n",
              "       [0.51979489, 0.63331324, 0.73444367, 0.81068432, 0.85172308,\n",
              "        0.85172308, 0.81068432, 0.73444367, 0.63331324, 0.51979489],\n",
              "       [0.57375342, 0.69905581, 0.81068432, 0.89483932, 0.9401382 ,\n",
              "        0.9401382 , 0.89483932, 0.81068432, 0.69905581, 0.57375342],\n",
              "       [0.60279818, 0.73444367, 0.85172308, 0.9401382 , 0.98773022,\n",
              "        0.98773022, 0.9401382 , 0.85172308, 0.73444367, 0.60279818],\n",
              "       [0.60279818, 0.73444367, 0.85172308, 0.9401382 , 0.98773022,\n",
              "        0.98773022, 0.9401382 , 0.85172308, 0.73444367, 0.60279818],\n",
              "       [0.57375342, 0.69905581, 0.81068432, 0.89483932, 0.9401382 ,\n",
              "        0.9401382 , 0.89483932, 0.81068432, 0.69905581, 0.57375342],\n",
              "       [0.51979489, 0.63331324, 0.73444367, 0.81068432, 0.85172308,\n",
              "        0.85172308, 0.81068432, 0.73444367, 0.63331324, 0.51979489],\n",
              "       [0.44822088, 0.54610814, 0.63331324, 0.69905581, 0.73444367,\n",
              "        0.73444367, 0.69905581, 0.63331324, 0.54610814, 0.44822088],\n",
              "       [0.36787944, 0.44822088, 0.51979489, 0.57375342, 0.60279818,\n",
              "        0.60279818, 0.57375342, 0.51979489, 0.44822088, 0.36787944]])"
            ]
          },
          "execution_count": 21,
          "metadata": {},
          "output_type": "execute_result"
        }
      ],
      "source": [
        "X,Y = np.meshgrid(np.linspace(-1,1,10), np.linspace(-1,1,10))\n",
        "S = np.sqrt(X*X + Y*Y)\n",
        "sigma, mu = 1.0, 0.0\n",
        "\n",
        "np.exp(-((S-mu)**2 / (2.0 * sigma**2)))"
      ]
    },
    {
      "cell_type": "markdown",
      "metadata": {
        "id": "2LUIfK87_5tk"
      },
      "source": [
        "#### 57. How to randomly place p elements in a 2D array? (★★☆) \n",
        "(**hint**: np.put, np.random.choice)"
      ]
    },
    {
      "cell_type": "code",
      "execution_count": 24,
      "metadata": {
        "id": "Hp0NaCuq_5tk"
      },
      "outputs": [
        {
          "data": {
            "text/plain": [
              "array([[0., 0., 0., 0., 0.],\n",
              "       [0., 0., 0., 0., 0.],\n",
              "       [0., 0., 0., 0., 0.],\n",
              "       [0., 1., 0., 1., 0.],\n",
              "       [1., 0., 0., 0., 1.]])"
            ]
          },
          "execution_count": 24,
          "metadata": {},
          "output_type": "execute_result"
        }
      ],
      "source": [
        "arr = np.zeros((5,5))\n",
        "\n",
        "p = 4\n",
        "\n",
        "np.put(arr, np.random.choice(range(5*5), p, replace=False), 1)\n",
        "\n",
        "arr"
      ]
    },
    {
      "cell_type": "markdown",
      "metadata": {
        "id": "E3gYG4As_5tk"
      },
      "source": [
        "#### 58. Subtract the mean of each row of a matrix (★★☆) \n",
        "(**hint**: mean(axis=,keepdims=))"
      ]
    },
    {
      "cell_type": "code",
      "execution_count": 29,
      "metadata": {
        "id": "6ONij4tm_5tk"
      },
      "outputs": [
        {
          "data": {
            "text/plain": [
              "array([[-0.23614437, -0.10457549, -0.02635501,  0.51699024, -0.14991537],\n",
              "       [-0.40021592,  0.02780671,  0.12815643,  0.17974304,  0.06450975],\n",
              "       [ 0.40452191, -0.10731905,  0.314076  , -0.28814931, -0.32312954],\n",
              "       [-0.27442363, -0.28207703,  0.27841736,  0.14192401,  0.13615928]])"
            ]
          },
          "execution_count": 29,
          "metadata": {},
          "output_type": "execute_result"
        }
      ],
      "source": [
        "X = np.random.rand(4,5)\n",
        "\n",
        "Y = X - X.mean(axis=1, keepdims=True)\n",
        "\n",
        "Y\n"
      ]
    },
    {
      "cell_type": "markdown",
      "metadata": {
        "id": "jWXpFSBA_5tk"
      },
      "source": [
        "#### 59. How to sort an array by the nth column? (★★☆) \n",
        "(**hint**: argsort)"
      ]
    },
    {
      "cell_type": "code",
      "execution_count": 34,
      "metadata": {
        "id": "ulAQUs-z_5tl"
      },
      "outputs": [
        {
          "name": "stdout",
          "output_type": "stream",
          "text": [
            "Original Array:\n",
            " [[ 1 10  8 18]\n",
            " [ 7  8  9 15]\n",
            " [18  5 11 13]\n",
            " [ 8 14  3  9]\n",
            " [14 10 11 11]]\n",
            "\n",
            "Sorted Array:\n",
            " [[18  5 11 13]\n",
            " [ 7  8  9 15]\n",
            " [ 1 10  8 18]\n",
            " [14 10 11 11]\n",
            " [ 8 14  3  9]]\n"
          ]
        }
      ],
      "source": [
        "arr = np.random.randint(0,20,(5,4))\n",
        "print(\"Original Array:\\n\",arr)\n",
        "\n",
        "\n",
        "print(\"\\nSorted Array:\\n\",arr[arr[:,1].argsort()])"
      ]
    },
    {
      "cell_type": "markdown",
      "metadata": {
        "id": "2tEzraMJ_5tl"
      },
      "source": [
        "#### 60. How to tell if a given 2D array has null columns? (★★☆) \n",
        "(**hint**: any, ~)"
      ]
    },
    {
      "cell_type": "code",
      "execution_count": 36,
      "metadata": {
        "id": "p3GwbcgU_5tl"
      },
      "outputs": [
        {
          "name": "stdout",
          "output_type": "stream",
          "text": [
            "Original 2D Array: [[2 0 1 1 2 2 0 2 1 0]\n",
            " [1 1 2 1 1 0 1 0 0 2]\n",
            " [1 2 0 2 1 1 2 0 2 0]]\n",
            "Is there any null values:  False\n"
          ]
        }
      ],
      "source": [
        "arr = np.random.randint(0,3,(3,10))\n",
        "print('Original 2D Array:', arr)\n",
        "\n",
        "print(\"Is there any null values: \",(~arr.any(axis=0)).any())"
      ]
    },
    {
      "cell_type": "markdown",
      "metadata": {
        "id": "VCFzAHPx_5tl"
      },
      "source": [
        "#### 61. Find the nearest value from a given value in an array (★★☆) \n",
        "(**hint**: np.abs, argmin, flat)"
      ]
    },
    {
      "cell_type": "code",
      "execution_count": 47,
      "metadata": {
        "id": "12q2gX7R_5tl"
      },
      "outputs": [
        {
          "name": "stdout",
          "output_type": "stream",
          "text": [
            "Original array [0.18027097 0.48317827 0.55980236 0.22659592 0.67951006 0.7932634\n",
            " 0.51156877 0.10278384]\n",
            "Nearest value to 0.3 0.22659592188571354\n"
          ]
        }
      ],
      "source": [
        "arr = np.random.uniform(0,1,8)\n",
        "print('Original array', arr)\n",
        "\n",
        "x = 0.3\n",
        "\n",
        "nearest = arr.flat[np.abs(arr-x).argmin()]\n",
        "print(\"Nearest value to 0.3\",nearest)"
      ]
    },
    {
      "cell_type": "markdown",
      "metadata": {
        "id": "XsDmeqe3_5tm"
      },
      "source": [
        "#### 62. Considering two arrays with shape (1,3) and (3,1), how to compute their sum using an iterator? (★★☆) \n",
        "(**hint**: np.nditer)"
      ]
    },
    {
      "cell_type": "code",
      "execution_count": 49,
      "metadata": {
        "id": "ES55h0ks_5tm"
      },
      "outputs": [
        {
          "name": "stdout",
          "output_type": "stream",
          "text": [
            "[[0 1 2]\n",
            " [1 2 3]\n",
            " [2 3 4]]\n"
          ]
        }
      ],
      "source": [
        "A = np.arange(3).reshape(3,1)\n",
        "B = np.arange(3).reshape(1,3)\n",
        "\n",
        "iter = np.nditer([A,B, None])\n",
        "\n",
        "for x,y,z in iter:\n",
        "    z[...] = x+y\n",
        "\n",
        "print(iter.operands[2])"
      ]
    },
    {
      "cell_type": "markdown",
      "metadata": {
        "id": "Ut87XIRl_5tm"
      },
      "source": [
        "#### 63. Create an array class that has a name attribute (★★☆) \n",
        "(**hint**: class method)"
      ]
    },
    {
      "cell_type": "code",
      "execution_count": 1,
      "metadata": {
        "id": "ld7_Ke9o_5tm"
      },
      "outputs": [
        {
          "name": "stdout",
          "output_type": "stream",
          "text": [
            "range_10\n"
          ]
        }
      ],
      "source": [
        "import numpy as np\n",
        "\n",
        "\n",
        "class Array(np.ndarray):\n",
        "    def __new__(cls, array, name='no name'):\n",
        "        obj = np.asanyarray(array).view(cls)\n",
        "        obj.name = name\n",
        "        return obj\n",
        "    def __array_finalize__(self, obj):\n",
        "        if obj is None: return\n",
        "        self.info = getattr(obj, 'name', 'no name')\n",
        "\n",
        "arr = Array(np.arange(10), \"range_10\")\n",
        "print(arr.name)"
      ]
    },
    {
      "cell_type": "markdown",
      "metadata": {
        "id": "Iq8KRGah_5tn"
      },
      "source": [
        "#### 64. Consider a given vector, how to add 1 to each element indexed by a second vector (be careful with repeated indices)? (★★★) \n",
        "(**hint**: np.bincount | np.add.at)"
      ]
    },
    {
      "cell_type": "code",
      "execution_count": 4,
      "metadata": {
        "id": "GiOgRySY_5tn"
      },
      "outputs": [
        {
          "name": "stdout",
          "output_type": "stream",
          "text": [
            "[1. 1. 1. 1. 1. 1. 1. 1. 1. 1.]\n",
            "[2. 5. 5. 1. 2. 1. 2. 5. 3. 4.]\n"
          ]
        }
      ],
      "source": [
        "arr = np.ones(10)\n",
        "print(arr)\n",
        "X = np.random.randint(0, len(arr), 20)\n",
        "arr += np.bincount(X, minlength=len(arr))\n",
        "print(arr)"
      ]
    },
    {
      "cell_type": "code",
      "execution_count": 5,
      "metadata": {},
      "outputs": [
        {
          "name": "stdout",
          "output_type": "stream",
          "text": [
            "[3. 9. 9. 1. 3. 1. 3. 9. 5. 7.]\n"
          ]
        }
      ],
      "source": [
        "# or\n",
        "\n",
        "np.add.at(arr,X,1)\n",
        "print(arr)"
      ]
    },
    {
      "cell_type": "markdown",
      "metadata": {
        "id": "ADVsiNxu_5tn"
      },
      "source": [
        "#### 65. How to accumulate elements of a vector (X) to an array (F) based on an index list (I)? (★★★) \n",
        "(**hint**: np.bincount)"
      ]
    },
    {
      "cell_type": "code",
      "execution_count": 8,
      "metadata": {
        "id": "owJ9X6Zv_5tn"
      },
      "outputs": [
        {
          "data": {
            "text/plain": [
              "array([0., 0., 0., 0., 0., 0., 0., 1., 2., 3., 4., 5., 6.])"
            ]
          },
          "execution_count": 8,
          "metadata": {},
          "output_type": "execute_result"
        }
      ],
      "source": [
        "A = [1,2,3,4,5,6]\n",
        "B = [7,8,9,10,11,12]\n",
        "\n",
        "arr = np.bincount(B,A)\n",
        "arr"
      ]
    },
    {
      "cell_type": "markdown",
      "metadata": {
        "id": "M6AEJ-Jg_5tn"
      },
      "source": [
        "#### 66. Considering a (w,h,3) image of (dtype=ubyte), compute the number of unique colors (★★★) \n",
        "(**hint**: np.unique)"
      ]
    },
    {
      "cell_type": "code",
      "execution_count": 9,
      "metadata": {
        "id": "DQ6ZLi5z_5to"
      },
      "outputs": [
        {
          "data": {
            "text/plain": [
              "8"
            ]
          },
          "execution_count": 9,
          "metadata": {},
          "output_type": "execute_result"
        }
      ],
      "source": [
        "w,h = 16,16\n",
        "\n",
        "A = np.random.randint(0,2,(h,w,3)).astype(np.ubyte)\n",
        "\n",
        "F = A[...,0]*(256*256) + A[...,1]*256 + A[...,2]\n",
        "\n",
        "n_unique = len(np.unique(F))\n",
        "n_unique"
      ]
    },
    {
      "cell_type": "markdown",
      "metadata": {
        "id": "_UcWnhhu_5to"
      },
      "source": [
        "#### 67. Considering a four dimensions array, how to get sum over the last two axis at once? (★★★) \n",
        "(**hint**: sum(axis=(-2,-1)))"
      ]
    },
    {
      "cell_type": "code",
      "execution_count": 12,
      "metadata": {
        "id": "K0fSHY4q_5to"
      },
      "outputs": [
        {
          "name": "stdout",
          "output_type": "stream",
          "text": [
            "[[[[4 2 9 1]\n",
            "   [6 6 5 4]\n",
            "   [7 7 4 8]]\n",
            "\n",
            "  [[6 4 7 7]\n",
            "   [6 9 6 2]\n",
            "   [8 8 3 2]]\n",
            "\n",
            "  [[4 5 5 3]\n",
            "   [8 6 3 1]\n",
            "   [5 0 2 3]]\n",
            "\n",
            "  [[2 0 4 6]\n",
            "   [8 2 7 9]\n",
            "   [1 1 0 3]]]\n",
            "\n",
            "\n",
            " [[[5 0 5 0]\n",
            "   [2 1 3 1]\n",
            "   [5 5 4 6]]\n",
            "\n",
            "  [[0 1 3 5]\n",
            "   [3 8 6 7]\n",
            "   [3 2 4 6]]\n",
            "\n",
            "  [[9 5 5 7]\n",
            "   [6 0 0 9]\n",
            "   [3 1 6 8]]\n",
            "\n",
            "  [[5 5 5 8]\n",
            "   [9 7 5 6]\n",
            "   [5 3 7 3]]]\n",
            "\n",
            "\n",
            " [[[6 0 3 1]\n",
            "   [7 7 6 1]\n",
            "   [1 7 5 7]]\n",
            "\n",
            "  [[6 9 5 0]\n",
            "   [2 1 9 2]\n",
            "   [8 4 9 7]]\n",
            "\n",
            "  [[0 2 3 5]\n",
            "   [1 9 8 9]\n",
            "   [0 1 1 6]]\n",
            "\n",
            "  [[7 7 5 3]\n",
            "   [9 8 7 8]\n",
            "   [2 9 6 1]]]]\n",
            "[[63 68 45 43]\n",
            " [37 48 59 68]\n",
            " [51 62 45 72]]\n",
            "[[63 68 45 43]\n",
            " [37 48 59 68]\n",
            " [51 62 45 72]]\n"
          ]
        }
      ],
      "source": [
        "A = np.random.randint(0,10,(3,4,3,4))\n",
        "print(A)\n",
        "\n",
        "sum = A.sum(axis=(-2,-1))\n",
        "print(sum)\n",
        "\n",
        "sum = A.reshape(A.shape[:-2] + (-1,)).sum(axis=-1)\n",
        "print(sum)"
      ]
    },
    {
      "cell_type": "markdown",
      "metadata": {
        "id": "Rpf6_H0u_5tp"
      },
      "source": [
        "#### 68. Considering a one-dimensional vector D, how to compute means of subsets of D using a vector S of same size describing subset  indices? (★★★) \n",
        "(**hint**: np.bincount)"
      ]
    },
    {
      "cell_type": "code",
      "execution_count": 14,
      "metadata": {
        "id": "20Vej1ep_5tp"
      },
      "outputs": [
        {
          "name": "stdout",
          "output_type": "stream",
          "text": [
            "[0.51056388 0.61622275 0.54119407 0.55438974 0.47593524 0.36866507\n",
            " 0.53194541 0.47551402 0.54533745 0.46588113]\n"
          ]
        }
      ],
      "source": [
        "D = np.random.uniform(0,1,100)\n",
        "S = np.random.randint(0,10,100)\n",
        "D_sums = np.bincount(S, weights=D)\n",
        "D_counts = np.bincount(S)\n",
        "D_means = D_sums / D_counts\n",
        "print(D_means)\n",
        "\n"
      ]
    },
    {
      "cell_type": "markdown",
      "metadata": {
        "id": "ZWOiuBF-_5tp"
      },
      "source": [
        "#### 69. How to get the diagonal of a dot product? (★★★) \n",
        "(**hint**: np.diag)"
      ]
    },
    {
      "cell_type": "code",
      "execution_count": 17,
      "metadata": {
        "id": "azvXV-uT_5tp"
      },
      "outputs": [
        {
          "name": "stdout",
          "output_type": "stream",
          "text": [
            "[1.13778645 1.30846468 0.4162287  1.43902256 1.37483543]\n"
          ]
        }
      ],
      "source": [
        "X = np.random.random((5,5))\n",
        "Y = np.random.random((5,5))\n",
        "\n",
        "print(np.diag(np.dot(X,Y)))\n"
      ]
    },
    {
      "cell_type": "markdown",
      "metadata": {
        "id": "huyQeT9k_5tq"
      },
      "source": [
        "#### 70. Consider the vector \\[1, 2, 3, 4, 5\\], how to build a new vector with 3 consecutive zeros interleaved between each value? (★★★) \n",
        "(**hint**: array\\[::4\\])"
      ]
    },
    {
      "cell_type": "code",
      "execution_count": 19,
      "metadata": {
        "id": "gBpaPy87_5tq"
      },
      "outputs": [
        {
          "name": "stdout",
          "output_type": "stream",
          "text": [
            "[1 2 3 4 5]\n",
            "[1. 0. 0. 0. 2. 0. 0. 0. 3. 0. 0. 0. 4. 0. 0. 0. 5.]\n"
          ]
        }
      ],
      "source": [
        "arr = np.array([1,2,3,4,5])\n",
        "# print(arr)\n",
        "n = 3\n",
        "arr0 = np.zeros(len(arr) + (len(arr)-1)*n)\n",
        "arr0[::n+1] = arr\n",
        "print(arr0)"
      ]
    },
    {
      "cell_type": "markdown",
      "metadata": {
        "id": "u-xuSXrL_5tq"
      },
      "source": [
        "#### 71. Consider an array of dimension (5,5,3), how to mulitply it by an array with dimensions (5,5)? (★★★) \n",
        "(**hint**: array\\[:, :, None\\])"
      ]
    },
    {
      "cell_type": "code",
      "execution_count": 26,
      "metadata": {
        "collapsed": true,
        "id": "D0x_C09t_5tq"
      },
      "outputs": [
        {
          "data": {
            "text/plain": [
              "array([[[6., 6., 6.],\n",
              "        [6., 6., 6.],\n",
              "        [6., 6., 6.],\n",
              "        [6., 6., 6.],\n",
              "        [6., 6., 6.]],\n",
              "\n",
              "       [[6., 6., 6.],\n",
              "        [6., 6., 6.],\n",
              "        [6., 6., 6.],\n",
              "        [6., 6., 6.],\n",
              "        [6., 6., 6.]],\n",
              "\n",
              "       [[6., 6., 6.],\n",
              "        [6., 6., 6.],\n",
              "        [6., 6., 6.],\n",
              "        [6., 6., 6.],\n",
              "        [6., 6., 6.]],\n",
              "\n",
              "       [[6., 6., 6.],\n",
              "        [6., 6., 6.],\n",
              "        [6., 6., 6.],\n",
              "        [6., 6., 6.],\n",
              "        [6., 6., 6.]],\n",
              "\n",
              "       [[6., 6., 6.],\n",
              "        [6., 6., 6.],\n",
              "        [6., 6., 6.],\n",
              "        [6., 6., 6.],\n",
              "        [6., 6., 6.]]])"
            ]
          },
          "execution_count": 26,
          "metadata": {},
          "output_type": "execute_result"
        }
      ],
      "source": [
        "X = 2*np.ones((5,5,3))\n",
        "Y = 3**np.ones((5,5))\n",
        "X*Y[:,:,None]"
      ]
    },
    {
      "cell_type": "markdown",
      "metadata": {
        "id": "VslctADu_5tr"
      },
      "source": [
        "#### 72. How to swap two rows of an array? (★★★) \n",
        "(**hint**: array\\[\\[\\]\\] = array\\[\\[\\]\\])"
      ]
    },
    {
      "cell_type": "code",
      "execution_count": 29,
      "metadata": {
        "id": "dt_9AmgV_5tr"
      },
      "outputs": [
        {
          "name": "stdout",
          "output_type": "stream",
          "text": [
            "Original A:\n",
            " [[0 1]\n",
            " [2 3]\n",
            " [4 5]\n",
            " [6 7]\n",
            " [8 9]]\n",
            "Altered array:\n",
            " [[2 3]\n",
            " [0 1]\n",
            " [4 5]\n",
            " [6 7]\n",
            " [8 9]]\n"
          ]
        }
      ],
      "source": [
        "A = np.arange(10).reshape(5,2)\n",
        "print('Original A:\\n',A)\n",
        "A[[0,1]] = A[[1,0]]\n",
        "print('Altered array:\\n',A)"
      ]
    },
    {
      "cell_type": "markdown",
      "metadata": {
        "id": "7WjaFTCE_5ts"
      },
      "source": [
        "#### 73. Consider a set of 10 triplets describing 10 triangles (with shared vertices), find the set of unique line segments composing all the  triangles (★★★) \n",
        "(**hint**: repeat, np.roll, np.sort, view, np.unique)"
      ]
    },
    {
      "cell_type": "code",
      "execution_count": 5,
      "metadata": {
        "id": "QXXEICHi_5tt"
      },
      "outputs": [
        {
          "name": "stdout",
          "output_type": "stream",
          "text": [
            "[( 0,  8) ( 0, 86) ( 2, 36) ( 2, 43) ( 8, 86) ( 9, 12) ( 9, 53) (10, 62)\n",
            " (10, 74) (11, 23) (11, 35) (12, 53) (16, 27) (16, 80) (23, 25) (23, 26)\n",
            " (23, 35) (23, 75) (23, 97) (25, 75) (26, 97) (27, 67) (27, 80) (27, 97)\n",
            " (36, 43) (43, 65) (43, 96) (62, 74) (65, 96) (67, 97)]\n"
          ]
        }
      ],
      "source": [
        "import numpy as np\n",
        "\n",
        "sides = np.random.randint(0,100, (10,3))\n",
        "x = np.roll(sides.repeat(2,axis=1), -1, axis=1)\n",
        "x = x.reshape(len(x)*3,2)\n",
        "x = np.sort(x,axis=1)\n",
        "\n",
        "ls = x.view(dtype=[('p0', x.dtype),('p1', x.dtype)])\n",
        "ls = np.unique(ls)\n",
        "print(ls)"
      ]
    },
    {
      "cell_type": "markdown",
      "metadata": {
        "id": "CzkXS2VX_5tt"
      },
      "source": [
        "#### 74. Given an array C that is a bincount, how to produce an array A such that np.bincount(A) == C? (★★★) \n",
        "(**hint**: np.repeat)"
      ]
    },
    {
      "cell_type": "code",
      "execution_count": 7,
      "metadata": {
        "id": "3QHxajXa_5tt"
      },
      "outputs": [
        {
          "name": "stdout",
          "output_type": "stream",
          "text": [
            "[1 1 2 3 4 4 6]\n"
          ]
        }
      ],
      "source": [
        "C = np.bincount([1,1,2,3,4,4,6])\n",
        "A = np.repeat(np.arange(len(C)),C)\n",
        "\n",
        "print(A)"
      ]
    },
    {
      "cell_type": "markdown",
      "metadata": {
        "id": "zcoWBvLQ_5tt"
      },
      "source": [
        "#### 75. How to compute averages using a sliding window over an array? (★★★) \n",
        "(**hint**: np.cumsum)"
      ]
    },
    {
      "cell_type": "code",
      "execution_count": 8,
      "metadata": {
        "id": "3RRzapch_5tu"
      },
      "outputs": [
        {
          "data": {
            "text/plain": [
              "array([ 1.,  2.,  3.,  4.,  5.,  6.,  7.,  8.,  9., 10., 11., 12., 13.,\n",
              "       14., 15., 16., 17., 18.])"
            ]
          },
          "execution_count": 8,
          "metadata": {},
          "output_type": "execute_result"
        }
      ],
      "source": [
        "def average(arr,n):\n",
        "    avg = np.cumsum(arr, dtype=float)\n",
        "    avg[n:] = avg[n:] - avg[:-n]\n",
        "    return avg[n-1:]/n\n",
        "\n",
        "arr = np.arange(20)\n",
        "average(arr,n=3)"
      ]
    },
    {
      "cell_type": "markdown",
      "metadata": {
        "id": "8jwueyKD_5tu"
      },
      "source": [
        "#### 76. Consider a one-dimensional array Z, build a two-dimensional array whose first row is (Z\\[0\\],Z\\[1\\],Z\\[2\\]) and each subsequent row is  shifted by 1 (last row should be (Z\\[-3\\],Z\\[-2\\],Z\\[-1\\]) (★★★) \n",
        "(**hint**: from numpy.lib import stride_tricks)"
      ]
    },
    {
      "cell_type": "code",
      "execution_count": 4,
      "metadata": {
        "id": "DWVga_kt_5tu"
      },
      "outputs": [
        {
          "name": "stdout",
          "output_type": "stream",
          "text": [
            "[[0 1 2]\n",
            " [1 2 3]\n",
            " [2 3 4]\n",
            " [3 4 5]\n",
            " [4 5 6]\n",
            " [5 6 7]\n",
            " [6 7 8]\n",
            " [7 8 9]]\n"
          ]
        }
      ],
      "source": [
        "import numpy as np\n",
        "from numpy.lib import stride_tricks\n",
        "\n",
        "def rolling(a, window):\n",
        "    shape = (a.size - window + 1, window)\n",
        "    strides = (a.itemsize, a.itemsize)\n",
        "    return stride_tricks.as_strided(a, shape=shape, strides=strides)\n",
        "\n",
        "arr = rolling(np.arange(10), 3)\n",
        "\n",
        "print(arr)"
      ]
    },
    {
      "cell_type": "markdown",
      "metadata": {
        "id": "x8zhnTLe_5tv"
      },
      "source": [
        "#### 77. How to negate a boolean, or to change the sign of a float inplace? (★★★) \n",
        "(**hint**: np.logical_not, np.negative)"
      ]
    },
    {
      "cell_type": "code",
      "execution_count": 5,
      "metadata": {
        "id": "Pcuc4IOU_5tv"
      },
      "outputs": [
        {
          "data": {
            "text/plain": [
              "array([ 0.56548067, -0.01773852, -0.15663125,  0.29869145,  0.35469249,\n",
              "        0.11666761,  0.2184294 ,  0.25101891,  0.58741828, -0.62978003,\n",
              "        0.8056257 ,  0.81810472,  0.55894992, -0.67306481,  0.1849043 ,\n",
              "        0.6886183 , -0.74552589, -0.91800026, -0.22297441,  0.68026888,\n",
              "        0.06486114,  0.20942242,  0.98816828, -0.30842157,  0.63174791,\n",
              "        0.63982502,  0.81069293,  0.25386028,  0.05839434,  0.15126131,\n",
              "       -0.25147879, -0.01654149, -0.82276229,  0.20813505,  0.04090113,\n",
              "       -0.98345717, -0.16696706, -0.53072657, -0.88058334, -0.51435928,\n",
              "        0.20973994, -0.83229778, -0.95520413, -0.70650156,  0.19108959,\n",
              "       -0.81214209,  0.37293722, -0.6755497 ,  0.96378874, -0.99125226,\n",
              "       -0.89083328, -0.86815258,  0.02710436, -0.36999727,  0.55193855,\n",
              "        0.07108641,  0.27350501, -0.71933333,  0.41105194, -0.16584256,\n",
              "       -0.43990079, -0.66982705, -0.12073772, -0.0387819 , -0.36076481,\n",
              "        0.87142488, -0.66183253,  0.23540567, -0.03922834,  0.49789366,\n",
              "       -0.90862713, -0.31637914, -0.12850392, -0.93538012,  0.3154164 ,\n",
              "        0.10108578, -0.23170207,  0.58124393, -0.60372365, -0.61804616,\n",
              "        0.46917538,  0.12450544, -0.8469226 ,  0.33032547,  0.89246439,\n",
              "        0.85481415,  0.07606381,  0.84321272, -0.73200208, -0.66581102,\n",
              "       -0.90653609, -0.15624915, -0.79078978, -0.69178738, -0.01554874,\n",
              "       -0.1898308 , -0.48075377, -0.15592465, -0.51985114,  0.29806329])"
            ]
          },
          "execution_count": 5,
          "metadata": {},
          "output_type": "execute_result"
        }
      ],
      "source": [
        "arr = np.random.randint(0,2,100)\n",
        "np.logical_not(arr, out=arr)\n",
        "\n",
        "arr = np.random.uniform(-1.0, 1.0, 100)\n",
        "np.negative(arr, out=arr)"
      ]
    },
    {
      "cell_type": "markdown",
      "metadata": {
        "id": "hQ3VKp5H_5tv"
      },
      "source": [
        "#### 78. Consider 2 sets of points P0,P1 describing lines (2d) and a point p, how to compute distance from p to each line i  (P0\\[i\\],P1\\[i\\])? (★★★)"
      ]
    },
    {
      "cell_type": "code",
      "execution_count": 6,
      "metadata": {
        "id": "q59xkffL_5tv"
      },
      "outputs": [
        {
          "name": "stdout",
          "output_type": "stream",
          "text": [
            "[ 7.35406316  4.37616974 13.39724195  2.76936633  3.27564936  0.65253863\n",
            " 14.80862763 13.53938633  9.80631636  7.78102139]\n"
          ]
        }
      ],
      "source": [
        "def distance(P0, P1, p):\n",
        "    T = P1 - P0\n",
        "    L = (T ** 2).sum(axis=1)\n",
        "    U = -((P0[:,0]-p[...,0]) * T[:,0] + (P0[:,1]-p[...,1]) * T[:,1]) /L\n",
        "    U = U.reshape(len(U), 1)\n",
        "    D = P0 + U * T - p\n",
        "    return np.sqrt((D**2).sum(axis=1))\n",
        "\n",
        "P0 = np.random.uniform(-10, 10, (10,2))\n",
        "P1 = np.random.uniform(-10, 10, (10,2))\n",
        "p = np.random.uniform(-10, 10, (1,2))\n",
        "print(distance(P0, P1, p))"
      ]
    },
    {
      "cell_type": "markdown",
      "metadata": {
        "id": "_FBlUhas_5tw"
      },
      "source": [
        "#### 79. Consider 2 sets of points P0,P1 describing lines (2d) and a set of points P, how to compute distance from each point j (P\\[j\\]) to each line i (P0\\[i\\],P1\\[i\\])? (★★★)"
      ]
    },
    {
      "cell_type": "code",
      "execution_count": 7,
      "metadata": {
        "id": "QER8CcuY_5tw"
      },
      "outputs": [
        {
          "name": "stdout",
          "output_type": "stream",
          "text": [
            "[[9.31528884e-02 3.06030162e+00 4.93702354e-01 4.29851157e+00\n",
            "  2.91130675e+00 4.88313827e+00 8.93933020e-01 4.89916342e+00\n",
            "  3.07088629e+00 2.35521509e+00]\n",
            " [4.47716986e+00 4.95991569e+00 3.70874296e+00 6.32148208e-01\n",
            "  2.06801624e+00 8.28649411e+00 4.50122944e+00 1.49753000e-02\n",
            "  2.33215002e+00 2.82670811e+00]\n",
            " [9.88423732e-01 3.99209537e+00 1.17947354e+01 5.58276264e-01\n",
            "  1.48984884e+00 1.43779957e+00 1.19188417e+01 1.64213927e+00\n",
            "  1.20755513e+01 7.01779586e+00]\n",
            " [6.62841218e+00 5.62964617e-01 1.42379378e+01 5.15422582e+00\n",
            "  7.16848775e+00 6.25243409e+00 1.48994632e+01 4.08130544e+00\n",
            "  9.83639334e+00 5.06430496e+00]\n",
            " [2.95256335e+00 5.27562166e+00 1.30234842e+00 1.33833255e+00\n",
            "  8.82159914e-04 7.68912023e+00 2.01067505e+00 1.91019352e+00\n",
            "  1.41689018e+00 3.86972886e+00]\n",
            " [1.44140083e+01 7.72964838e+00 1.26103046e+01 1.18191003e+01\n",
            "  1.34785373e+01 1.49152580e+01 1.41887303e+01 1.09853050e+01\n",
            "  2.39061970e+00 2.13186744e+00]\n",
            " [1.49411909e+00 1.05667664e+00 4.47438095e+00 4.59743663e+00\n",
            "  2.91917017e+00 1.83706984e+00 4.58053251e+00 5.40633535e+00\n",
            "  7.62241988e+00 2.25815349e+00]\n",
            " [9.20568384e+00 1.12333200e+01 9.82295540e-01 4.25568925e+00\n",
            "  5.36898045e+00 1.42486696e+01 2.39248821e+00 3.83165720e+00\n",
            "  3.70353555e+00 8.76110732e+00]\n",
            " [7.34749014e+00 4.18435537e+00 8.49374716e+00 4.40405368e+00\n",
            "  6.04089383e+00 9.30848065e+00 9.43576707e+00 3.60383093e+00\n",
            "  4.27698549e+00 6.33972849e-01]\n",
            " [3.72766821e+00 7.36569685e+00 6.36298544e-01 1.10856046e+00\n",
            "  8.41042949e-02 9.26804568e+00 2.25500221e-01 1.57702087e+00\n",
            "  8.71635994e-01 6.18483231e+00]]\n"
          ]
        }
      ],
      "source": [
        "P0 = np.random.uniform(-10, 10, (10,2))\n",
        "P1 = np.random.uniform(-10, 10, (10,2))\n",
        "p = np.random.uniform(-10, 10, (10,2))\n",
        "\n",
        "print(np.array([distance(P0, P1, i) for i in p]))"
      ]
    },
    {
      "cell_type": "markdown",
      "metadata": {
        "id": "H_9juQ52_5tw"
      },
      "source": [
        "#### 80. Consider an arbitrary array, write a function that extract a subpart with a fixed shape and centered on a given element (pad with a `fill` value when necessary) (★★★) \n",
        "(**hint**: minimum, maximum)"
      ]
    },
    {
      "cell_type": "code",
      "execution_count": 10,
      "metadata": {},
      "outputs": [
        {
          "name": "stdout",
          "output_type": "stream",
          "text": [
            "[[5 3 8 2 0 4 0 4 0 2]\n",
            " [8 2 3 4 1 5 8 1 5 2]\n",
            " [1 2 4 8 7 9 2 1 1 5]\n",
            " [2 3 5 2 9 6 7 2 9 0]\n",
            " [0 3 8 7 8 4 5 0 9 7]\n",
            " [5 5 5 5 5 5 6 5 5 7]\n",
            " [6 7 8 9 5 8 9 3 5 3]\n",
            " [7 5 4 7 7 3 6 3 4 9]\n",
            " [5 8 1 2 8 6 6 6 1 0]\n",
            " [3 9 9 5 7 0 1 8 9 7]]\n",
            "[[0 0 0 0 0]\n",
            " [0 5 3 8 2]\n",
            " [0 8 2 3 4]\n",
            " [0 1 2 4 8]\n",
            " [0 2 3 5 2]]\n"
          ]
        },
        {
          "name": "stderr",
          "output_type": "stream",
          "text": [
            "/tmp/ipykernel_23381/1159162857.py:23: FutureWarning: Using a non-tuple sequence for multidimensional indexing is deprecated; use `arr[tuple(seq)]` instead of `arr[seq]`. In the future this will be interpreted as an array index, `arr[np.array(seq)]`, which will result either in an error or a different result.\n",
            "  R[r] = Z[z]\n"
          ]
        }
      ],
      "source": [
        "Z = np.random.randint(0,10,(10,10))\n",
        "shape = (5,5)\n",
        "fill  = 0\n",
        "position = (1,1)\n",
        "\n",
        "R = np.ones(shape, dtype=Z.dtype)*fill\n",
        "P  = np.array(list(position)).astype(int)\n",
        "Rs = np.array(list(R.shape)).astype(int)\n",
        "Zs = np.array(list(Z.shape)).astype(int)\n",
        "\n",
        "R_start = np.zeros((len(shape),)).astype(int)\n",
        "R_stop  = np.array(list(shape)).astype(int)\n",
        "Z_start = (P-Rs//2)\n",
        "Z_stop  = (P+Rs//2)+Rs%2\n",
        "\n",
        "R_start = (R_start - np.minimum(Z_start,0)).tolist()\n",
        "Z_start = (np.maximum(Z_start,0)).tolist()\n",
        "R_stop = np.maximum(R_start, (R_stop - np.maximum(Z_stop-Zs,0))).tolist()\n",
        "Z_stop = (np.minimum(Z_stop,Zs)).tolist()\n",
        "\n",
        "r = [slice(start,stop) for start,stop in zip(R_start,R_stop)]\n",
        "z = [slice(start,stop) for start,stop in zip(Z_start,Z_stop)]\n",
        "R[r] = Z[z]\n",
        "print(Z)\n",
        "print(R)"
      ]
    },
    {
      "cell_type": "markdown",
      "metadata": {
        "id": "oChKXIDa_5tx"
      },
      "source": [
        "#### 81. Consider an array Z = \\[1,2,3,4,5,6,7,8,9,10,11,12,13,14\\], how to generate an array R = \\[\\[1,2,3,4\\], \\[2,3,4,5\\], \\[3,4,5,6\\], ..., \\[11,12,13,14\\]\\]? (★★★) \n",
        "(**hint**: stride\\_tricks.as\\_strided)"
      ]
    },
    {
      "cell_type": "code",
      "execution_count": 12,
      "metadata": {
        "id": "kUU4Gs7O_5ty"
      },
      "outputs": [
        {
          "name": "stdout",
          "output_type": "stream",
          "text": [
            "[[ 1  2  3  4]\n",
            " [ 2  3  4  5]\n",
            " [ 3  4  5  6]\n",
            " [ 4  5  6  7]\n",
            " [ 5  6  7  8]\n",
            " [ 6  7  8  9]\n",
            " [ 7  8  9 10]\n",
            " [ 8  9 10 11]\n",
            " [ 9 10 11 12]\n",
            " [10 11 12 13]\n",
            " [11 12 13 14]]\n"
          ]
        }
      ],
      "source": [
        "arr = np.arange(1, 15, dtype=np.uint32)\n",
        "new_arr = stride_tricks.as_strided(arr, (11,4), (4,4))\n",
        "print(new_arr)"
      ]
    },
    {
      "cell_type": "markdown",
      "metadata": {
        "id": "DrxpLZ7x_5tz"
      },
      "source": [
        "#### 82. Compute a matrix rank (★★★) \n",
        "(**hint**: np.linalg.svd) (suggestion: np.linalg.svd)"
      ]
    },
    {
      "cell_type": "code",
      "execution_count": 13,
      "metadata": {
        "id": "RztOBou1_5tz"
      },
      "outputs": [
        {
          "name": "stdout",
          "output_type": "stream",
          "text": [
            "10\n"
          ]
        }
      ],
      "source": [
        "arr = np.random.uniform(0,1, (10,10))\n",
        "a,b,c = np.linalg.svd(arr) # Singular Value Decomposition\n",
        "rank = np.sum(b>1e-10)\n",
        "print(rank)"
      ]
    },
    {
      "cell_type": "markdown",
      "metadata": {
        "id": "s7H-vKgr_5t0"
      },
      "source": [
        "#### 83. How to find the most frequent value in an array? \n",
        "(**hint**: np.bincount, argmax)"
      ]
    },
    {
      "cell_type": "code",
      "execution_count": 14,
      "metadata": {
        "id": "yg3gncVj_5t1"
      },
      "outputs": [
        {
          "data": {
            "text/plain": [
              "2"
            ]
          },
          "execution_count": 14,
          "metadata": {},
          "output_type": "execute_result"
        }
      ],
      "source": [
        "arr = np.random.randint(0,10,50)\n",
        "np.bincount(arr).argmax()"
      ]
    },
    {
      "cell_type": "markdown",
      "metadata": {
        "id": "qKbuYwip_5t1"
      },
      "source": [
        "#### 84. Extract all the contiguous 3x3 blocks from a random 10x10 matrix (★★★) \n",
        "(**hint**: stride\\_tricks.as\\_strided)"
      ]
    },
    {
      "cell_type": "code",
      "execution_count": 15,
      "metadata": {
        "id": "xCMTwTgr_5t2"
      },
      "outputs": [
        {
          "data": {
            "text/plain": [
              "array([[[[2, 3, 0],\n",
              "         [1, 0, 2],\n",
              "         [1, 4, 3]],\n",
              "\n",
              "        [[3, 0, 0],\n",
              "         [0, 2, 0],\n",
              "         [4, 3, 4]],\n",
              "\n",
              "        [[0, 0, 0],\n",
              "         [2, 0, 4],\n",
              "         [3, 4, 1]],\n",
              "\n",
              "        [[0, 0, 1],\n",
              "         [0, 4, 4],\n",
              "         [4, 1, 4]],\n",
              "\n",
              "        [[0, 1, 2],\n",
              "         [4, 4, 3],\n",
              "         [1, 4, 2]],\n",
              "\n",
              "        [[1, 2, 3],\n",
              "         [4, 3, 3],\n",
              "         [4, 2, 3]],\n",
              "\n",
              "        [[2, 3, 1],\n",
              "         [3, 3, 2],\n",
              "         [2, 3, 2]],\n",
              "\n",
              "        [[3, 1, 1],\n",
              "         [3, 2, 4],\n",
              "         [3, 2, 1]]],\n",
              "\n",
              "\n",
              "       [[[1, 0, 2],\n",
              "         [1, 4, 3],\n",
              "         [1, 4, 3]],\n",
              "\n",
              "        [[0, 2, 0],\n",
              "         [4, 3, 4],\n",
              "         [4, 3, 0]],\n",
              "\n",
              "        [[2, 0, 4],\n",
              "         [3, 4, 1],\n",
              "         [3, 0, 0]],\n",
              "\n",
              "        [[0, 4, 4],\n",
              "         [4, 1, 4],\n",
              "         [0, 0, 4]],\n",
              "\n",
              "        [[4, 4, 3],\n",
              "         [1, 4, 2],\n",
              "         [0, 4, 2]],\n",
              "\n",
              "        [[4, 3, 3],\n",
              "         [4, 2, 3],\n",
              "         [4, 2, 0]],\n",
              "\n",
              "        [[3, 3, 2],\n",
              "         [2, 3, 2],\n",
              "         [2, 0, 1]],\n",
              "\n",
              "        [[3, 2, 4],\n",
              "         [3, 2, 1],\n",
              "         [0, 1, 2]]],\n",
              "\n",
              "\n",
              "       [[[1, 4, 3],\n",
              "         [1, 4, 3],\n",
              "         [4, 0, 4]],\n",
              "\n",
              "        [[4, 3, 4],\n",
              "         [4, 3, 0],\n",
              "         [0, 4, 3]],\n",
              "\n",
              "        [[3, 4, 1],\n",
              "         [3, 0, 0],\n",
              "         [4, 3, 0]],\n",
              "\n",
              "        [[4, 1, 4],\n",
              "         [0, 0, 4],\n",
              "         [3, 0, 2]],\n",
              "\n",
              "        [[1, 4, 2],\n",
              "         [0, 4, 2],\n",
              "         [0, 2, 2]],\n",
              "\n",
              "        [[4, 2, 3],\n",
              "         [4, 2, 0],\n",
              "         [2, 2, 3]],\n",
              "\n",
              "        [[2, 3, 2],\n",
              "         [2, 0, 1],\n",
              "         [2, 3, 2]],\n",
              "\n",
              "        [[3, 2, 1],\n",
              "         [0, 1, 2],\n",
              "         [3, 2, 2]]],\n",
              "\n",
              "\n",
              "       [[[1, 4, 3],\n",
              "         [4, 0, 4],\n",
              "         [2, 4, 0]],\n",
              "\n",
              "        [[4, 3, 0],\n",
              "         [0, 4, 3],\n",
              "         [4, 0, 0]],\n",
              "\n",
              "        [[3, 0, 0],\n",
              "         [4, 3, 0],\n",
              "         [0, 0, 2]],\n",
              "\n",
              "        [[0, 0, 4],\n",
              "         [3, 0, 2],\n",
              "         [0, 2, 4]],\n",
              "\n",
              "        [[0, 4, 2],\n",
              "         [0, 2, 2],\n",
              "         [2, 4, 0]],\n",
              "\n",
              "        [[4, 2, 0],\n",
              "         [2, 2, 3],\n",
              "         [4, 0, 0]],\n",
              "\n",
              "        [[2, 0, 1],\n",
              "         [2, 3, 2],\n",
              "         [0, 0, 2]],\n",
              "\n",
              "        [[0, 1, 2],\n",
              "         [3, 2, 2],\n",
              "         [0, 2, 4]]],\n",
              "\n",
              "\n",
              "       [[[4, 0, 4],\n",
              "         [2, 4, 0],\n",
              "         [3, 0, 4]],\n",
              "\n",
              "        [[0, 4, 3],\n",
              "         [4, 0, 0],\n",
              "         [0, 4, 2]],\n",
              "\n",
              "        [[4, 3, 0],\n",
              "         [0, 0, 2],\n",
              "         [4, 2, 2]],\n",
              "\n",
              "        [[3, 0, 2],\n",
              "         [0, 2, 4],\n",
              "         [2, 2, 2]],\n",
              "\n",
              "        [[0, 2, 2],\n",
              "         [2, 4, 0],\n",
              "         [2, 2, 2]],\n",
              "\n",
              "        [[2, 2, 3],\n",
              "         [4, 0, 0],\n",
              "         [2, 2, 4]],\n",
              "\n",
              "        [[2, 3, 2],\n",
              "         [0, 0, 2],\n",
              "         [2, 4, 3]],\n",
              "\n",
              "        [[3, 2, 2],\n",
              "         [0, 2, 4],\n",
              "         [4, 3, 0]]],\n",
              "\n",
              "\n",
              "       [[[2, 4, 0],\n",
              "         [3, 0, 4],\n",
              "         [3, 3, 0]],\n",
              "\n",
              "        [[4, 0, 0],\n",
              "         [0, 4, 2],\n",
              "         [3, 0, 3]],\n",
              "\n",
              "        [[0, 0, 2],\n",
              "         [4, 2, 2],\n",
              "         [0, 3, 0]],\n",
              "\n",
              "        [[0, 2, 4],\n",
              "         [2, 2, 2],\n",
              "         [3, 0, 4]],\n",
              "\n",
              "        [[2, 4, 0],\n",
              "         [2, 2, 2],\n",
              "         [0, 4, 1]],\n",
              "\n",
              "        [[4, 0, 0],\n",
              "         [2, 2, 4],\n",
              "         [4, 1, 4]],\n",
              "\n",
              "        [[0, 0, 2],\n",
              "         [2, 4, 3],\n",
              "         [1, 4, 3]],\n",
              "\n",
              "        [[0, 2, 4],\n",
              "         [4, 3, 0],\n",
              "         [4, 3, 4]]],\n",
              "\n",
              "\n",
              "       [[[3, 0, 4],\n",
              "         [3, 3, 0],\n",
              "         [4, 2, 2]],\n",
              "\n",
              "        [[0, 4, 2],\n",
              "         [3, 0, 3],\n",
              "         [2, 2, 2]],\n",
              "\n",
              "        [[4, 2, 2],\n",
              "         [0, 3, 0],\n",
              "         [2, 2, 0]],\n",
              "\n",
              "        [[2, 2, 2],\n",
              "         [3, 0, 4],\n",
              "         [2, 0, 2]],\n",
              "\n",
              "        [[2, 2, 2],\n",
              "         [0, 4, 1],\n",
              "         [0, 2, 3]],\n",
              "\n",
              "        [[2, 2, 4],\n",
              "         [4, 1, 4],\n",
              "         [2, 3, 3]],\n",
              "\n",
              "        [[2, 4, 3],\n",
              "         [1, 4, 3],\n",
              "         [3, 3, 4]],\n",
              "\n",
              "        [[4, 3, 0],\n",
              "         [4, 3, 4],\n",
              "         [3, 4, 1]]],\n",
              "\n",
              "\n",
              "       [[[3, 3, 0],\n",
              "         [4, 2, 2],\n",
              "         [1, 4, 1]],\n",
              "\n",
              "        [[3, 0, 3],\n",
              "         [2, 2, 2],\n",
              "         [4, 1, 2]],\n",
              "\n",
              "        [[0, 3, 0],\n",
              "         [2, 2, 0],\n",
              "         [1, 2, 4]],\n",
              "\n",
              "        [[3, 0, 4],\n",
              "         [2, 0, 2],\n",
              "         [2, 4, 1]],\n",
              "\n",
              "        [[0, 4, 1],\n",
              "         [0, 2, 3],\n",
              "         [4, 1, 1]],\n",
              "\n",
              "        [[4, 1, 4],\n",
              "         [2, 3, 3],\n",
              "         [1, 1, 3]],\n",
              "\n",
              "        [[1, 4, 3],\n",
              "         [3, 3, 4],\n",
              "         [1, 3, 3]],\n",
              "\n",
              "        [[4, 3, 4],\n",
              "         [3, 4, 1],\n",
              "         [3, 3, 1]]]])"
            ]
          },
          "execution_count": 15,
          "metadata": {},
          "output_type": "execute_result"
        }
      ],
      "source": [
        "arr = np.random.randint(0,5,(10,10))\n",
        "n = 3\n",
        "i = 1 + (arr.shape[0]-3)\n",
        "j = 1 + (arr.shape[1] - 3)\n",
        "\n",
        "n_arr = stride_tricks.as_strided(arr, shape=(i, j, n, n), strides=arr.strides + arr.strides)\n",
        "n_arr"
      ]
    },
    {
      "cell_type": "markdown",
      "metadata": {
        "id": "FHpewZIu_5t2"
      },
      "source": [
        "#### 85. Create a 2D array subclass such that Z\\[i,j\\] == Z\\[j,i\\] (★★★) \n",
        "(**hint**: class method)"
      ]
    },
    {
      "cell_type": "code",
      "execution_count": 21,
      "metadata": {
        "id": "RTFOpyk1_5t3"
      },
      "outputs": [
        {
          "name": "stdout",
          "output_type": "stream",
          "text": [
            "[[ 0 17  4  8 11]\n",
            " [17  6  2 11  2]\n",
            " [ 4  2  9 42  1]\n",
            " [ 8 11 42  9 13]\n",
            " [11  2  1 13  3]]\n"
          ]
        }
      ],
      "source": [
        "class Symetric(np.ndarray):\n",
        "    def __setitem__(self, index, value):\n",
        "        i,j = index\n",
        "        super(Symetric, self).__setitem__((i, j), value)\n",
        "        super(Symetric, self).__setitem__((j, i), value)\n",
        "\n",
        "def symetric(arr):\n",
        "    return np.asarray(arr + arr.T - np.diag(arr.diagonal())).view(Symetric)\n",
        "\n",
        "S = symetric(np.random.randint(0,10,(5,5)))\n",
        "S[2,3] = 42\n",
        "print(S)"
      ]
    },
    {
      "cell_type": "markdown",
      "metadata": {
        "id": "IrdHMbkq_5t3"
      },
      "source": [
        "#### 86. Consider a set of p matrices wich shape (n,n) and a set of p vectors with shape (n,1). How to compute the sum of of the p matrix products at once? (result has shape (n,1)) (★★★) \n",
        "(**hint**: np.tensordot)"
      ]
    },
    {
      "cell_type": "code",
      "execution_count": 16,
      "metadata": {
        "id": "XvaADWvQ_5t3"
      },
      "outputs": [
        {
          "data": {
            "text/plain": [
              "array([[200.],\n",
              "       [200.],\n",
              "       [200.],\n",
              "       [200.],\n",
              "       [200.],\n",
              "       [200.],\n",
              "       [200.],\n",
              "       [200.],\n",
              "       [200.],\n",
              "       [200.],\n",
              "       [200.],\n",
              "       [200.],\n",
              "       [200.],\n",
              "       [200.],\n",
              "       [200.],\n",
              "       [200.],\n",
              "       [200.],\n",
              "       [200.],\n",
              "       [200.],\n",
              "       [200.]])"
            ]
          },
          "execution_count": 16,
          "metadata": {},
          "output_type": "execute_result"
        }
      ],
      "source": [
        "p,n = 10, 20\n",
        "M = np.ones((p,n,n))\n",
        "V = np.ones((p,n,1))\n",
        "S = np.tensordot(M,V, axes=[[0,2], [0,1]])\n",
        "S"
      ]
    },
    {
      "cell_type": "markdown",
      "metadata": {
        "id": "NoKNTxSZ_5t4"
      },
      "source": [
        "#### 87. Consider a 16x16 array, how to get the block-sum (block size is 4x4)? (★★★) \n",
        "(**hint**: np.add.reduceat)"
      ]
    },
    {
      "cell_type": "code",
      "execution_count": 20,
      "metadata": {
        "id": "_Pvdi2va_5t4"
      },
      "outputs": [
        {
          "data": {
            "text/plain": [
              "array([[16., 16., 16., 16.],\n",
              "       [16., 16., 16., 16.],\n",
              "       [16., 16., 16., 16.],\n",
              "       [16., 16., 16., 16.]])"
            ]
          },
          "execution_count": 20,
          "metadata": {},
          "output_type": "execute_result"
        }
      ],
      "source": [
        "arr = np.ones((16,16))\n",
        "k = 4\n",
        "block_sum = np.add.reduceat(\n",
        "    np.add.reduceat(arr, np.arange(0, arr.shape[0], k), axis=0), \n",
        "    np.arange(0, arr.shape[1],k), axis=1)\n",
        "block_sum"
      ]
    },
    {
      "cell_type": "markdown",
      "metadata": {
        "id": "5mqdF4ld_5t5"
      },
      "source": [
        "#### 88. How to implement the Game of Life using numpy arrays? (★★★)"
      ]
    },
    {
      "cell_type": "code",
      "execution_count": 25,
      "metadata": {
        "id": "J_kB9KdD_5t5"
      },
      "outputs": [
        {
          "name": "stdout",
          "output_type": "stream",
          "text": [
            "[[0 0 0 ... 0 0 0]\n",
            " [0 0 0 ... 0 0 0]\n",
            " [0 0 0 ... 0 0 0]\n",
            " ...\n",
            " [0 1 1 ... 0 0 0]\n",
            " [0 1 1 ... 0 0 0]\n",
            " [0 0 0 ... 0 0 0]]\n"
          ]
        }
      ],
      "source": [
        "def iterate(arr):\n",
        "    # count neighbours\n",
        "    N = (arr[0:-2, 0:-2] + arr[0:-2, 1:-1] + arr[0:-2, 2:] + \n",
        "        arr[1:-1, 0:-2] + arr[1:-1, 2:] + \n",
        "        arr[2:, 0:-2] + arr[2:, 1:-1] + arr[2:, 2:])\n",
        "\n",
        "    # Apply rule\n",
        "    birth = (N==3) & (arr[1:-1, 1:-1] == 0)\n",
        "    survive = ((N==2) | (N==3)) & (arr[1:-1, 1:-1]==1)\n",
        "    arr[...] = 0\n",
        "    arr[1:-1, 1:-1][birth | survive] = 1\n",
        "    return arr\n",
        "\n",
        "arr = np.random.randint(0,2,(50,50))\n",
        "\n",
        "for i in range(100): \n",
        "    arr = iterate(arr)\n",
        "\n",
        "print(arr)"
      ]
    },
    {
      "cell_type": "markdown",
      "metadata": {
        "id": "Kipw1yl7_5t5"
      },
      "source": [
        "#### 89. How to get the n largest values of an array (★★★) \n",
        "(**hint**: np.argsort | np.argpartition)"
      ]
    },
    {
      "cell_type": "code",
      "execution_count": 26,
      "metadata": {
        "id": "u3EIAfPg_5t6"
      },
      "outputs": [
        {
          "name": "stdout",
          "output_type": "stream",
          "text": [
            "[9995 9996 9997 9998 9999]\n",
            "[9998 9999 9996 9997 9995]\n"
          ]
        }
      ],
      "source": [
        "arr = np.arange(10000)\n",
        "np.random.shuffle(arr)\n",
        "n = 5\n",
        "\n",
        "# Slow\n",
        "print(arr[np.argsort(arr)[-n:]])\n",
        "\n",
        "# Fast\n",
        "print(arr[np.argpartition(-arr, n)[:n]])"
      ]
    },
    {
      "cell_type": "markdown",
      "metadata": {
        "id": "GUNN25tB_5t6"
      },
      "source": [
        "#### 90. Given an arbitrary number of vectors, build the cartesian product (every combinations of every item) (★★★) \n",
        "(**hint**: np.indices)"
      ]
    },
    {
      "cell_type": "code",
      "execution_count": 3,
      "metadata": {
        "id": "6NSrHWzk_5t7",
        "scrolled": true
      },
      "outputs": [
        {
          "name": "stdout",
          "output_type": "stream",
          "text": [
            "[[1 4 6]\n",
            " [1 4 7]\n",
            " [1 5 6]\n",
            " [1 5 7]\n",
            " [2 4 6]\n",
            " [2 4 7]\n",
            " [2 5 6]\n",
            " [2 5 7]\n",
            " [3 4 6]\n",
            " [3 4 7]\n",
            " [3 5 6]\n",
            " [3 5 7]]\n"
          ]
        }
      ],
      "source": [
        "def cartesian(arrays):\n",
        "    arrays = [np.asarray(a) for a in arrays]\n",
        "    shape = (len(x) for x in arrays)\n",
        "\n",
        "    ix = np.indices(shape, dtype=int)\n",
        "    ix = ix.reshape(len(arrays), -1).T \n",
        "\n",
        "    for n, arr in enumerate(arrays):\n",
        "        ix[:, n] = arrays[n][ix[:, n]]\n",
        "    \n",
        "    return ix\n",
        "\n",
        "print(cartesian(([1,2,3], [4,5], [6,7])))"
      ]
    },
    {
      "cell_type": "markdown",
      "metadata": {
        "id": "vtRZ6niP_5t7"
      },
      "source": [
        "#### 91. How to create a record array from a regular array? (★★★) \n",
        "(**hint**: np.core.records.fromarrays)"
      ]
    },
    {
      "cell_type": "code",
      "execution_count": 4,
      "metadata": {
        "id": "z6ewjkSM_5t7"
      },
      "outputs": [
        {
          "data": {
            "text/plain": [
              "rec.array([(b'Hello', 2.5, 3), (b'World', 3.6, 2)],\n",
              "          dtype=[('col1', 'S8'), ('col2', '<f8'), ('col3', '<i8')])"
            ]
          },
          "execution_count": 4,
          "metadata": {},
          "output_type": "execute_result"
        }
      ],
      "source": [
        "arr = np.array([(\"Hello\", 2.5, 3), (\"World\", 3.6, 2)])\n",
        "\n",
        "record_arr = np.core.records.fromarrays(arr.T, names='col1, col2, col3', formats=\"S8, f8, i8\")\n",
        "\n",
        "record_arr"
      ]
    },
    {
      "cell_type": "markdown",
      "metadata": {
        "id": "7ehtBCEH_5t8"
      },
      "source": [
        "#### 92. Consider a large vector Z, compute Z to the power of 3 using 3 different methods (★★★) \n",
        "(**hint**: np.power, \\*, np.einsum)"
      ]
    },
    {
      "cell_type": "code",
      "execution_count": 22,
      "metadata": {
        "id": "lqVkvsM4_5t8"
      },
      "outputs": [
        {
          "name": "stdout",
          "output_type": "stream",
          "text": [
            "1.56 s ± 222 ms per loop (mean ± std. dev. of 7 runs, 1 loop each)\n",
            "251 ms ± 18.6 ms per loop (mean ± std. dev. of 7 runs, 1 loop each)\n",
            "190 ms ± 4.48 ms per loop (mean ± std. dev. of 7 runs, 10 loops each)\n"
          ]
        }
      ],
      "source": [
        "z = np.random.rand(int(5e7))\n",
        "\n",
        "%timeit np.power(z,3)\n",
        "%timeit z*z*z\n",
        "%timeit np.einsum('i, i, i->i', z,z,z)"
      ]
    },
    {
      "cell_type": "markdown",
      "metadata": {
        "id": "t8z_Ugm4_5t8"
      },
      "source": [
        "#### 93. Consider two arrays A and B of shape (8,3) and (2,2). How to find rows of A that contain elements of each row of B regardless of the order of the elements in B? (★★★) \n",
        "(**hint**: np.where)"
      ]
    },
    {
      "cell_type": "code",
      "execution_count": 6,
      "metadata": {
        "id": "GH-eo5aM_5t9"
      },
      "outputs": [
        {
          "data": {
            "text/plain": [
              "array([0, 1, 2, 3, 5, 6, 7])"
            ]
          },
          "execution_count": 6,
          "metadata": {},
          "output_type": "execute_result"
        }
      ],
      "source": [
        "A = np.random.randint(0,5, (8,3))\n",
        "B = np.random.randint(0,5, (2,2))\n",
        "\n",
        "C = (A[..., np.newaxis, np.newaxis] == B)\n",
        "rows = np.where(C.any((3,1)).all(1))[0]\n",
        "rows"
      ]
    },
    {
      "cell_type": "markdown",
      "metadata": {
        "id": "sopL8USr_5t9"
      },
      "source": [
        "#### 94. Considering a 10x3 matrix, extract rows with unequal values (e.g. \\[2,2,3\\]) (★★★)"
      ]
    },
    {
      "cell_type": "code",
      "execution_count": 9,
      "metadata": {
        "id": "6a4tputU_5t9"
      },
      "outputs": [
        {
          "name": "stdout",
          "output_type": "stream",
          "text": [
            "original array\n",
            " [[2 1 0]\n",
            " [1 2 1]\n",
            " [4 3 2]\n",
            " [1 0 3]\n",
            " [0 2 4]\n",
            " [4 0 4]\n",
            " [0 1 3]\n",
            " [1 2 1]\n",
            " [1 0 1]\n",
            " [3 4 2]]\n",
            "Array with extracted unequal values\n",
            " [[2 1 0]\n",
            " [1 2 1]\n",
            " [4 3 2]\n",
            " [1 0 3]\n",
            " [0 2 4]\n",
            " [4 0 4]\n",
            " [0 1 3]\n",
            " [1 2 1]\n",
            " [1 0 1]\n",
            " [3 4 2]]\n"
          ]
        }
      ],
      "source": [
        "arr = np.random.randint(0,5,(10,3))\n",
        "print(\"original array\\n\",arr)\n",
        "\n",
        "x = np.all(arr[:,1:] == arr[:, :-1], axis=1)\n",
        "y = arr[~x]\n",
        "print(\"Array with extracted unequal values\\n\",y)\n",
        "\n"
      ]
    },
    {
      "cell_type": "markdown",
      "metadata": {
        "id": "KSiZLvaH_5t9"
      },
      "source": [
        "#### 95. Convert a vector of ints into a matrix binary representation (★★★) \n",
        "(**hint**: np.unpackbits)"
      ]
    },
    {
      "cell_type": "code",
      "execution_count": 11,
      "metadata": {
        "id": "RrXNv9Li_5t-"
      },
      "outputs": [
        {
          "name": "stdout",
          "output_type": "stream",
          "text": [
            "[[0 0 0 0 0 0 0 0]\n",
            " [0 0 0 0 0 0 0 1]\n",
            " [0 0 0 0 0 0 1 0]\n",
            " [0 0 0 0 0 0 1 1]\n",
            " [0 0 0 0 1 1 1 1]\n",
            " [0 0 0 1 0 0 0 0]\n",
            " [0 0 1 0 0 0 0 0]\n",
            " [0 1 0 0 0 0 0 0]\n",
            " [1 0 0 0 0 0 0 0]]\n"
          ]
        }
      ],
      "source": [
        "x = np.array([0,1,2,3,15, 16, 32, 64, 128], dtype=np.uint8)\n",
        "print(np.unpackbits(x[:, np.newaxis], axis=1))"
      ]
    },
    {
      "cell_type": "markdown",
      "metadata": {
        "id": "dOqXMzHH_5t-"
      },
      "source": [
        "#### 96. Given a two dimensional array, how to extract unique rows? (★★★) \n",
        "(**hint**: np.ascontiguousarray)"
      ]
    },
    {
      "cell_type": "code",
      "execution_count": 13,
      "metadata": {
        "id": "VWsahZeW_5t-"
      },
      "outputs": [
        {
          "name": "stdout",
          "output_type": "stream",
          "text": [
            "[[0 0 0]\n",
            " [0 0 1]\n",
            " [0 1 0]\n",
            " [1 1 0]]\n"
          ]
        }
      ],
      "source": [
        "arr = np.random.randint(0,2, (6,3))\n",
        "U = np.ascontiguousarray(arr).view(np.dtype((np.void, arr.dtype.itemsize * arr.shape[1])))\n",
        "_, idx = np.unique(U, return_index=True)\n",
        "unique_rows = arr[idx]\n",
        "print(unique_rows)"
      ]
    },
    {
      "cell_type": "markdown",
      "metadata": {
        "id": "OZLZtPL2_5t-"
      },
      "source": [
        "#### 97. Considering 2 vectors A & B, write the einsum equivalent of inner, outer, sum, and mul function (★★★) \n",
        "(**hint**: np.einsum)"
      ]
    },
    {
      "cell_type": "code",
      "execution_count": 14,
      "metadata": {
        "id": "fNwYMxt__5t_"
      },
      "outputs": [
        {
          "data": {
            "text/plain": [
              "array([[0.00409315, 0.31935257, 0.30984196, 0.29961966, 0.5013219 ,\n",
              "        0.66330157, 0.64643751, 0.56128046, 0.03742786, 0.57086588],\n",
              "       [0.00377524, 0.29454857, 0.28577665, 0.27634831, 0.46238441,\n",
              "        0.61178319, 0.59622895, 0.51768601, 0.03452085, 0.52652695],\n",
              "       [0.00131952, 0.10295071, 0.09988475, 0.09658935, 0.16161275,\n",
              "        0.21383065, 0.20839413, 0.18094178, 0.01206574, 0.18403186],\n",
              "       [0.00194879, 0.15204678, 0.14751869, 0.14265175, 0.2386841 ,\n",
              "        0.31580416, 0.30777502, 0.26723094, 0.01781976, 0.27179465],\n",
              "       [0.00304448, 0.23753392, 0.23045995, 0.22285661, 0.37288241,\n",
              "        0.49336263, 0.48081917, 0.41747949, 0.02783878, 0.42460912],\n",
              "       [0.00252479, 0.19698717, 0.19112071, 0.18481526, 0.30923184,\n",
              "        0.40914623, 0.39874392, 0.34621625, 0.02308673, 0.35212886],\n",
              "       [0.00115978, 0.09048741, 0.08779261, 0.08489616, 0.14204777,\n",
              "        0.18794413, 0.18316576, 0.15903681, 0.01060505, 0.16175281],\n",
              "       [0.00152235, 0.11877526, 0.11523803, 0.11143609, 0.18645423,\n",
              "        0.24669855, 0.24042638, 0.20875433, 0.01392036, 0.21231939],\n",
              "       [0.00464615, 0.36249832, 0.35170279, 0.34009942, 0.5690524 ,\n",
              "        0.75291614, 0.73377368, 0.63711159, 0.04248451, 0.64799204],\n",
              "       [0.00222446, 0.17355511, 0.16838648, 0.16283108, 0.27244803,\n",
              "        0.36047738, 0.35131245, 0.30503306, 0.02034052, 0.31024235]])"
            ]
          },
          "execution_count": 14,
          "metadata": {},
          "output_type": "execute_result"
        }
      ],
      "source": [
        "A = np.random.uniform(0,1,10)\n",
        "B = np.random.uniform(0,1,10)\n",
        "\n",
        "np.einsum(\"i->\", A) # np.sum(A)\n",
        "np.einsum(\"i, i->i\", A,B) # A * B\n",
        "np.einsum(\"i,i\", A, B) # np.inner(A, B)\n",
        "np.einsum(\"i, j->ij\", A, B) # np.outer(A,B)"
      ]
    },
    {
      "cell_type": "markdown",
      "metadata": {
        "id": "bxD4DcYk_5t_"
      },
      "source": [
        "#### 98. Considering a path described by two vectors (X,Y), how to sample it using equidistant samples (★★★)? \n",
        "(**hint**: np.cumsum, np.interp)"
      ]
    },
    {
      "cell_type": "code",
      "execution_count": 16,
      "metadata": {
        "collapsed": true,
        "id": "kUG-Y5Ak_5t_"
      },
      "outputs": [
        {
          "name": "stdout",
          "output_type": "stream",
          "text": [
            "X_int\n",
            " [ 0.00000000e+00 -3.73131229e-01 -2.59817608e+00 -3.26212050e+00\n",
            " -2.18442687e+00 -2.98929946e-02  2.42923642e+00  4.54913599e+00\n",
            "  5.92318348e+00  6.35117933e+00  5.82369277e+00  4.46259540e+00\n",
            "  2.47320794e+00  1.09577220e-01 -2.36575300e+00 -4.71261671e+00\n",
            " -6.72701769e+00 -8.25541575e+00 -9.18486120e+00 -9.46381505e+00\n",
            " -9.11085788e+00 -8.12875279e+00 -6.63306046e+00 -4.69271059e+00\n",
            " -2.44736165e+00 -2.05444585e-02  2.46101146e+00  4.86841760e+00\n",
            "  7.08937968e+00  9.02539126e+00  1.05948609e+01  1.17357250e+01\n",
            "  1.24068974e+01  1.25885805e+01  1.22815267e+01  1.15053927e+01\n",
            "  1.02963689e+01  8.70429550e+00  6.78948686e+00  4.61716636e+00\n",
            "  2.25853448e+00 -1.98731680e-01 -2.68040566e+00 -5.11543300e+00\n",
            " -7.41973991e+00 -9.53891040e+00 -1.14237629e+01 -1.29919305e+01\n",
            " -1.42355069e+01 -1.51243232e+01 -1.56061571e+01 -1.57219415e+01\n",
            " -1.54217066e+01 -1.47579136e+01 -1.37255236e+01 -1.23634834e+01\n",
            " -1.07024632e+01 -8.78327367e+00 -6.65029558e+00 -4.35514246e+00\n",
            " -1.94290275e+00  5.28038914e-01  3.00985904e+00  5.45450275e+00\n",
            "  7.80093594e+00  1.00179639e+01  1.20595602e+01  1.38732623e+01\n",
            "  1.54564938e+01  1.67497894e+01  1.77435802e+01  1.84439878e+01\n",
            "  1.87990820e+01  1.88271003e+01  1.85472755e+01  1.79378850e+01\n",
            "  1.70105456e+01  1.58085777e+01  1.43501808e+01  1.26222364e+01\n",
            "  1.06905445e+01  8.58498641e+00  6.33562529e+00  3.96179025e+00\n",
            "  1.51802643e+00 -9.61699044e-01 -3.44349301e+00 -5.88951759e+00\n",
            " -8.26006582e+00 -1.05270865e+01 -1.26610269e+01 -1.46343020e+01\n",
            " -1.64206033e+01 -1.79708499e+01 -1.92894561e+01 -2.03605967e+01\n",
            " -2.11716587e+01 -2.17133504e+01 -2.19797677e+01 -2.19626531e+01\n",
            " -2.16476737e+01 -2.10622561e+01 -2.02145809e+01 -1.91158467e+01\n",
            " -1.77800930e+01 -1.62239930e+01 -1.44666197e+01 -1.25291882e+01\n",
            " -1.04347777e+01 -8.20773276e+00 -5.86978851e+00 -3.45563299e+00\n",
            " -9.92556869e-01  1.49191203e+00  3.97031733e+00  6.41557503e+00\n",
            "  8.80126359e+00  1.11019001e+01  1.32931995e+01  1.53523150e+01\n",
            "  1.72580567e+01  1.89910866e+01  2.05340895e+01  2.18719167e+01\n",
            "  2.29917039e+01  2.38829603e+01  2.45376309e+01  2.49501314e+01\n",
            "  2.51173551e+01  2.50386548e+01  2.47157984e+01  2.41529019e+01\n",
            "  2.33563391e+01  2.23346314e+01  2.10983193e+01  1.96598169e+01\n",
            "  1.80332532e+01  1.62343003e+01  1.42799934e+01  1.21885425e+01\n",
            "  9.97914013e+00  7.67176574e+00  5.28699023e+00  2.84441658e+00\n",
            "  3.68190102e-01 -2.11846865e+00 -4.59426061e+00 -7.03829202e+00\n",
            " -9.43024209e+00 -1.17505186e+01 -1.39803999e+01 -1.61021634e+01\n",
            " -1.80991985e+01 -1.99561058e+01 -2.16587804e+01 -2.31850397e+01\n",
            " -2.45166960e+01 -2.56568097e+01 -2.65976904e+01 -2.73332424e+01\n",
            " -2.78589555e+01 -2.81718833e+01 -2.82706110e+01 -2.81552119e+01\n",
            " -2.78066635e+01 -2.72341677e+01 -2.64578863e+01 -2.54844118e+01\n",
            " -2.43214986e+01 -2.29779690e+01 -2.14636172e+01 -1.97837046e+01\n",
            " -1.79341987e+01 -1.59545785e+01 -1.38585628e+01 -1.16602783e+01\n",
            " -9.37416511e+00 -7.01488958e+00 -4.59184632e+00 -2.12995331e+00\n",
            "  3.50691071e-01  2.83498918e+00  5.30813450e+00  7.75565814e+00\n",
            "  1.01522531e+01  1.24813227e+01  1.47337756e+01  1.68973642e+01\n",
            "  1.89604991e+01  2.09071945e+01  2.26943693e+01  2.43420179e+01\n",
            "  2.58422998e+01  2.71881423e+01  2.83731992e+01  2.93376609e+01\n",
            "  3.01222558e+01  3.07280750e+01  3.11531219e+01  3.13960177e+01]\n",
            "Y_int\n",
            " [ 0.00000000e+00  1.74026724e+00  9.81816584e-01 -1.34251287e+00\n",
            " -3.53191891e+00 -4.70449474e+00 -4.59573427e+00 -3.33831870e+00\n",
            " -1.28956083e+00  1.14234685e+00  3.55645601e+00  5.62188218e+00\n",
            "  7.09389488e+00  7.82951803e+00  7.78700678e+00  6.99685666e+00\n",
            "  5.55535240e+00  3.60417006e+00  1.30506373e+00 -1.15819722e+00\n",
            " -3.61328132e+00 -5.89130465e+00 -7.87065053e+00 -9.41689057e+00\n",
            " -1.04714836e+01 -1.09903787e+01 -1.09354306e+01 -1.03330912e+01\n",
            " -9.22690166e+00 -7.67489830e+00 -5.75257980e+00 -3.54832201e+00\n",
            " -1.15854355e+00  1.31709956e+00  3.78023622e+00  6.13780326e+00\n",
            "  8.30540149e+00  1.02098724e+01  1.17910419e+01  1.29972950e+01\n",
            "  1.37774249e+01  1.41319792e+01  1.40585758e+01  1.35636816e+01\n",
            "  1.26345244e+01  1.13409083e+01  9.72216360e+00  7.79464305e+00\n",
            "  5.64544223e+00  3.32503222e+00  8.88107041e-01 -1.59329248e+00\n",
            " -4.05992507e+00 -6.45313746e+00 -8.71327144e+00 -1.07900854e+01\n",
            " -1.26380653e+01 -1.42147006e+01 -1.54892299e+01 -1.64390858e+01\n",
            " -1.70351433e+01 -1.72938948e+01 -1.71685631e+01 -1.67219979e+01\n",
            " -1.59044166e+01 -1.47824153e+01 -1.33665280e+01 -1.16678134e+01\n",
            " -9.75246391e+00 -7.63091465e+00 -5.35345831e+00 -2.96905840e+00\n",
            " -5.09631905e-01  1.97507060e+00  4.44430515e+00  6.85344809e+00\n",
            "  9.15903461e+00  1.13337844e+01  1.33467125e+01  1.51336120e+01\n",
            "  1.66966787e+01  1.80162922e+01  1.90746708e+01  1.98127969e+01\n",
            "  2.02634499e+01  2.04221761e+01  2.02877631e+01  1.98449702e+01\n",
            "  1.90974465e+01  1.80799531e+01  1.68069397e+01  1.52959771e+01\n",
            "  1.35665801e+01  1.16227312e+01  9.51601869e+00  7.27388893e+00\n",
            "  4.92519240e+00  2.49981337e+00  2.82932820e-02 -2.45817963e+00\n",
            " -4.92460367e+00 -7.34030894e+00 -9.67635928e+00 -1.19050601e+01\n",
            " -1.40002645e+01 -1.59376556e+01 -1.76950019e+01 -1.92523833e+01\n",
            " -2.05923861e+01 -2.16995543e+01 -2.25478860e+01 -2.31432552e+01\n",
            " -2.34800725e+01 -2.35556687e+01 -2.33702741e+01 -2.29269662e+01\n",
            " -2.22315865e+01 -2.12926288e+01 -2.01211000e+01 -1.87303570e+01\n",
            " -1.71359212e+01 -1.53552740e+01 -1.34076356e+01 -1.13137308e+01\n",
            " -9.09554383e+00 -6.77606668e+00 -4.37904252e+00 -1.92870828e+00\n",
            "  5.50461201e-01  3.03400451e+00  5.49771780e+00  7.91788934e+00\n",
            "  1.02715222e+01  1.25365431e+01  1.46919953e+01  1.67182148e+01\n",
            "  1.85969872e+01  2.03116866e+01  2.18473923e+01  2.31909872e+01\n",
            "  2.43312337e+01  2.52588296e+01  2.59664444e+01  2.64391214e+01\n",
            "  2.66748505e+01  2.66796333e+01  2.64545680e+01  2.60026765e+01\n",
            "  2.53288265e+01  2.44396400e+01  2.33433894e+01  2.20498837e+01\n",
            "  2.05703459e+01  1.89172843e+01  1.71043584e+01  1.51396391e+01\n",
            "  1.30387952e+01  1.08294252e+01  8.52903617e+00  6.15551380e+00\n",
            "  3.72697869e+00  1.26164946e+00 -1.22228693e+00 -3.70679651e+00\n",
            " -6.17014862e+00 -8.59028675e+00 -1.09516293e+01 -1.32379536e+01\n",
            " -1.54338179e+01 -1.75246263e+01 -1.94966815e+01 -2.13317519e+01\n",
            " -2.29952001e+01 -2.44987532e+01 -2.58335652e+01 -2.69919481e+01\n",
            " -2.79673583e+01 -2.87543764e+01 -2.93186910e+01 -2.96679958e+01\n",
            " -2.98181354e+01 -2.97693731e+01 -2.95229769e+01 -2.90811595e+01\n",
            " -2.84133854e+01 -2.75430665e+01 -2.64934034e+01 -2.52713717e+01\n",
            " -2.38845608e+01 -2.23353782e+01 -2.06051319e+01 -1.87442619e+01\n",
            " -1.67635423e+01 -1.46739620e+01 -1.24866789e+01 -1.01933401e+01\n",
            " -7.83474328e+00 -5.42495146e+00 -2.97607515e+00 -5.00072086e-01]\n"
          ]
        }
      ],
      "source": [
        "z = np.arange(0, 10*np.pi, 0.1)\n",
        "n = 1\n",
        "\n",
        "X = n * z * np.cos(z)\n",
        "Y = n * z * np.sin(z)\n",
        "\n",
        "segment_length = (np.diff(X) ** 2 + np.diff(Y) ** 2) ** .5\n",
        "r = np.zeros_like(X)\n",
        "r[1:] = np.cumsum(segment_length) # integrate path\n",
        "r_int = np.linspace(0, r.max(), 200) # regular spaced path\n",
        "\n",
        "# integer path\n",
        "x_int = np.interp(r_int, r, X)\n",
        "print(\"X_int\\n\", x_int)\n",
        "y_int = np.interp(r_int, r, Y)\n",
        "print(\"Y_int\\n\", y_int)"
      ]
    },
    {
      "cell_type": "markdown",
      "metadata": {
        "id": "cbGJNpN3_5t_"
      },
      "source": [
        "#### 99. Given an integer n and a 2D array X, select from X the rows which can be interpreted as draws from a multinomial distribution with n degrees, i.e., the rows which only contain integers and which sum to n. (★★★) \n",
        "(**hint**: np.logical\\_and.reduce, np.mod)"
      ]
    },
    {
      "cell_type": "code",
      "execution_count": 17,
      "metadata": {
        "id": "d7jvxg6X_5t_"
      },
      "outputs": [
        {
          "name": "stdout",
          "output_type": "stream",
          "text": [
            "[[2. 0. 1. 1.]]\n"
          ]
        }
      ],
      "source": [
        "X = np.asanyarray([[1.0, 0.0, 3.0, 8.0],\n",
        "                    [2.0, 0.0, 1.0, 1.0],\n",
        "                    [1.5, 2.5, 1.0, 0.0]])\n",
        "\n",
        "n = 4\n",
        "M = np.logical_and.reduce(np.mod(X, 1) == 0, axis=-1)\n",
        "M &= (X.sum(axis=-1) == n)\n",
        "print(X[M])"
      ]
    },
    {
      "cell_type": "markdown",
      "metadata": {
        "id": "myv6pJKq_5uA"
      },
      "source": [
        "#### 100. Compute bootstrapped 95% confidence intervals for the mean of a 1D array X (i.e., resample the elements of an array with replacement N times, compute the mean of each sample, and then compute percentiles over the means). (★★★) \n",
        "(**hint**: np.percentile)"
      ]
    },
    {
      "cell_type": "code",
      "execution_count": 19,
      "metadata": {
        "id": "6flekxrg_5uA"
      },
      "outputs": [
        {
          "data": {
            "text/plain": [
              "array([-0.17015332,  0.21518303])"
            ]
          },
          "execution_count": 19,
          "metadata": {},
          "output_type": "execute_result"
        }
      ],
      "source": [
        "# Create random 1D array\n",
        "X = np.random.randn(100)\n",
        "\n",
        "# number of bootstrap samples\n",
        "N = 1000\n",
        "\n",
        "idx = np.random.randint(0, X.size, (N, X.size))\n",
        "means = X[idx].mean(axis=1)\n",
        "percentile_mean = np.percentile(means, [2.5, 97.5])\n",
        "percentile_mean"
      ]
    },
    {
      "cell_type": "code",
      "execution_count": null,
      "metadata": {},
      "outputs": [],
      "source": []
    }
  ],
  "metadata": {
    "colab": {
      "name": "Numpy_tasks.ipynb",
      "provenance": []
    },
    "kernelspec": {
      "display_name": "Python 3",
      "language": "python",
      "name": "python3"
    },
    "language_info": {
      "codemirror_mode": {
        "name": "ipython",
        "version": 3
      },
      "file_extension": ".py",
      "mimetype": "text/x-python",
      "name": "python",
      "nbconvert_exporter": "python",
      "pygments_lexer": "ipython3",
      "version": "3.9.7"
    }
  },
  "nbformat": 4,
  "nbformat_minor": 0
}
